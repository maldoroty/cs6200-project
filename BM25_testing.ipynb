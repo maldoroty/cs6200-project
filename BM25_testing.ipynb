{
 "cells": [
  {
   "cell_type": "code",
   "execution_count": 2,
   "metadata": {},
   "outputs": [],
   "source": [
    "import web_crawler_data_set_up as wcd\n",
    "from BM25 import BM25"
   ]
  },
  {
   "cell_type": "markdown",
   "metadata": {},
   "source": [
    "Gathering initial data and setting up problem"
   ]
  },
  {
   "cell_type": "code",
   "execution_count": 3,
   "metadata": {},
   "outputs": [],
   "source": [
    "websites = wcd.load_json(\"websites.json\")\n",
    "wcd.scrape_websites(websites, \"doc_data.json\")\n",
    "doc_data = wcd.load_json(\"doc_data.json\")\n",
    "queries_labeled = [\n",
    "    (\"sudden fever body aches\", \"Flu\"),\n",
    "    (\"difficulty breathing loss smell event\", \"Covid\"),\n",
    "    (\"increased thirst unexpected weight loss\", \"Diabetes\"),\n",
    "    (\"extreme fatigue normal sleep routine\", \"Addisons\"),\n",
    "    (\"persistent sadness low energy\", \"Depression\"),\n",
    "    (\"chest pain heart palpitations\", \"Cardiac Arrest\"),\n",
    "    (\"wheezing exhaling worsened respiratory virus\", \"Asthma\"),\n",
    "    (\"blurred vision blind spots halos around lights\", \"Glaucoma\"),\n",
    "    (\"swollen lymph nodes tiny red spots skin easy bruising\", \"Leukemia\"),\n",
    "    (\"bloody stool feel need pass stools bowels empty\", \"Crohns Disease\")\n",
    "    ]\n",
    "wcd.annotate_data(queries_labeled, doc_data, \"annotated_data.json\")"
   ]
  },
  {
   "cell_type": "markdown",
   "metadata": {},
   "source": [
    "Model testing on original smaller dataset"
   ]
  },
  {
   "cell_type": "code",
   "execution_count": 17,
   "metadata": {},
   "outputs": [
    {
     "name": "stdout",
     "output_type": "stream",
     "text": [
      "0.8733333333333334\n",
      "Flu: [('Flu2', 7.282656090558841), ('Add3', 7.2056934598174704), ('Flu3', 6.731536274554822), ('Cov1', 5.330354178526775), ('Car2', 4.637879438524966)]\n",
      "Covid: [('Cov1', 8.130651554305484), ('Cov5', 6.498813509152596), ('Flu2', 3.9803716719895545), ('Add2', 3.567379264541694), ('Ast1', 3.528635245337877)]\n",
      "Diabetes: [('Dia5', 9.453971906671857), ('Cro4', 4.170029939563392), ('Dep1', 3.8268137995691553), ('Dep3', 3.7589755425739546), ('Cro1', 3.4617618379816046)]\n",
      "Addisons: [('Dia4', 6.864605112355704), ('Dep3', 6.01821930390569), ('Car3', 6.009692429000052), ('Dep2', 5.469185544288353), ('Add2', 5.241511302794987)]\n",
      "Depression: [('Dep3', 9.862588937173076), ('Dep2', 7.266303255431771), ('Dep4', 6.480532759916773), ('Cro2', 5.8055371084289185), ('Dep1', 4.82217258946266)]\n",
      "Cardiac Arrest: [('Car1', 9.861215155910852), ('Car2', 5.216878300018213), ('Car3', 5.19923753670662), ('Flu2', 4.973921433958047), ('Dia1', 3.662913597616614)]\n",
      "Asthma: [('Ast1', 11.167145113450816), ('Cov3', 9.1534972588124), ('Ast6', 8.468154277544775), ('Flu1', 6.985024628939079), ('Flu4', 6.9046941442479)]\n",
      "Glaucoma: [('Gla1', 24.94820110508471), ('Gla4', 24.03670349883887), ('Gla2', 12.992901691644168), ('Gla3', 6.2816607953962595), ('Leu2', 3.2687732108822742)]\n",
      "Leukemia: [('Leu1', 24.9943696700268), ('Leu2', 20.09224943403214), ('Gla4', 11.766697093149686), ('Leu3', 7.463147171330325), ('Cro4', 6.288614644179036)]\n",
      "Crohns Disease: [('Cro3', 9.191334035364115), ('Cro4', 7.443440123033591), ('Cro2', 6.427808952000535), ('Cro1', 5.5956887378688), ('Cov5', 2.9748389821850254)]\n"
     ]
    }
   ],
   "source": [
    "relevance_data = wcd.load_json(\"annotated_data.json\")\n",
    "queries = [query[0] for query in queries_labeled]\n",
    "model = BM25(doc_data)\n",
    "k_value = 5\n",
    "print(model.mean_avg_precision(queries, relevance_data, k_value))\n",
    "\n",
    "for (query, label) in queries_labeled:\n",
    "    top_k_docs = model.top_docs(query, k_value)\n",
    "    doc_list = [(doc_id, score) for doc_id, score in top_k_docs]\n",
    "    print(f\"{label}: {doc_list}\")\n"
   ]
  },
  {
   "cell_type": "markdown",
   "metadata": {},
   "source": [
    "Using website seeds for webcrawling to add to collection size"
   ]
  },
  {
   "cell_type": "code",
   "execution_count": 3,
   "metadata": {},
   "outputs": [],
   "source": [
    "# Gather websites for more documents\n",
    "flu_seeds = [\"https://www.who.int/news-room/fact-sheets/detail/influenza-(seasonal)\",\n",
    "    \"https://www.mayoclinic.org/diseases-conditions/search-results?q=flu\",\n",
    "    \"https://my.clevelandclinic.org/health/diseases/4335-influenza-flu\",\n",
    "    \"https://www.healthline.com/health/flu-causes\",\n",
    "    \"https://www.yalemedicine.org/conditions/flu\",\n",
    "    \"https://www.cdc.gov/flu/symptoms/symptoms.htm\"\n",
    "    ]\n",
    "\n",
    "covid_seeds = [\n",
    "    \"https://www.who.int/emergencies/diseases/novel-coronavirus-2019\",\n",
    "    \"https://www.cdc.gov/coronavirus/2019-ncov/index.html\",\n",
    "    \"https://www.mayoclinic.org/diseases-conditions/coronavirus/symptoms-causes/syc-20479963\",\n",
    "    ]\n",
    "\n",
    "diabetes_seeds = [\n",
    "    \"https://www.medicalnewstoday.com/info/diabetes\",\n",
    "    \"https://www.mayoclinic.org/diseases-conditions/diabetes/symptoms-causes/syc-20371444\",\n",
    "    \"https://www.cdc.gov/diabetes/index.html\",\n",
    "    ]\n",
    "\n",
    "addisons_seeds = [\"https://www.niddk.nih.gov/health-information/endocrine-diseases/addisons-disease\",\n",
    "    \"https://www.medicalnewstoday.com/articles/164648\",\n",
    "    \"https://www.healthline.com/health/addisons-disease\",\n",
    "    \"https://rarediseases.org/rare-diseases/addisons-disease/\",\n",
    "    \"https://www.mayoclinic.org/diseases-conditions/addisons-disease/symptoms-causes/syc-20350293\",\n",
    "    \"https://www.webmd.com/a-to-z-guides/addisons-disease#1\",\n",
    "    \"https://rarediseases.info.nih.gov/diseases/5779/addisons-disease\",\n",
    "    \"https://www.cedars-sinai.org/health-library/diseases-and-conditions/a/addisons-disease.html\",\n",
    "    \"https://www.uptodate.com/contents/addisons-disease-clinical-manifestations-diagnosis-and-treatment\",\n",
    "    \"https://patient.info/doctor/addisons-disease\",\n",
    "    \"https://emedicine.medscape.com/article/116467-overview\",\n",
    "    \"https://www.cdc.gov/genomics/resources/diseases/addisons.htm\"\n",
    "    ]   \n",
    "\n",
    "depression_seeds = [\n",
    "    \"https://www.mayoclinic.org/diseases-conditions/depression/symptoms-causes/syc-20356007\",\n",
    "    \"https://www.webmd.com/depression/default.htm\",\n",
    "    \"https://www.psychologytoday.com/us/basics/depression\",\n",
    "    \"https://www.nimh.nih.gov/health/topics/depression/index.shtml\",\n",
    "    ]\n",
    "\n",
    "cardiac_arrest_seeds = [\"https://www.heart.org/en/health-topics/heart-attack\",\n",
    "    \"https://www.healthline.com/health/heart-attack\",\n",
    "    \"https://www.mayoclinic.org/diseases-conditions/sudden-cardiac-arrest/symptoms-causes/syc-20350634\",\n",
    "    \"https://www.heart.org/en/health-topics/cardiac-arrest\",\n",
    "    \"https://www.nhlbi.nih.gov/health-topics/sudden-cardiac-arrest\",\n",
    "    \"https://www.medicinenet.com/sudden_cardiac_arrest/article.htm\",\n",
    "    \"https://www.health.harvard.edu/heart-health/sudden-cardiac-arrest-what-you-need-to-know\",\n",
    "    \"https://www.nhs.uk/conditions/cardiac-arrest/\",\n",
    "    \"https://www.heart.org/en/news/2023/02/09/this-is-what-a-cardiac-arrest-looks-like-and-why-you-need-to-know\"\n",
    "    ]\n",
    "\n",
    "asthma_seeds = [\n",
    "    \"https://www.mayoclinic.org/diseases-conditions/asthma/symptoms-causes/syc-20369653\",\n",
    "    \"https://www.webmd.com/asthma/default.htm\",\n",
    "    \"https://www.lung.org/lung-health-diseases/lung-disease-lookup/asthma\",\n",
    "    \"https://www.cdc.gov/asthma/index.html\",\n",
    "    \"https://www.nhlbi.nih.gov/health-topics/asthma\",\n",
    "    \"https://www.healthline.com/health/asthma\",\n",
    "    \"https://www.medicalnewstoday.com/articles/323129\",\n",
    "    \"https://www.aaaai.org/conditions-and-treatments/asthma\",\n",
    "    ]\n",
    "\n",
    "glaucoma_seeds = [\n",
    "    \"https://www.mayoclinic.org/diseases-conditions/glaucoma/symptoms-causes/syc-20372839\",\n",
    "    \"https://www.webmd.com/eye-health/glaucoma/default.htm\",\n",
    "    \"https://www.aao.org/eye-health/diseases/what-is-glaucoma\",\n",
    "    \"https://www.glaucoma.org/glaucoma/\",\n",
    "    ]\n",
    "\n",
    "leukemia_seeds = [\n",
    "    \"https://www.cancer.org/cancer/leukemia.html\",\n",
    "    \"https://www.mayoclinic.org/diseases-conditions/leukemia/symptoms-causes/syc-20374373\",\n",
    "    \"https://www.webmd.com/cancer/lymphoma/understanding-leukemia-basics\",\n",
    "    \"https://www.lls.org/leukemia\",\n",
    "    \"https://www.cancer.gov/types/leukemia\",\n",
    "    \"https://www.cancer.net/cancer-types/leukemia-acute-lymphoblastic-all/statistics\",\n",
    "    \"https://www.medicalnewstoday.com/articles/142595\",\n",
    "    \"https://www.healthline.com/health/leukemia\",\n",
    "    ]\n",
    "\n",
    "crohns_disease_seeds = [\n",
    "    \"https://www.mayoclinic.org/diseases-conditions/crohns-disease/symptoms-causes/syc-20353304\",\n",
    "    \"https://www.webmd.com/ibd-crohns-disease/default.htm\",\n",
    "    \"https://www.crohnscolitisfoundation.org/what-is-crohns-disease\",\n",
    "    \"https://www.cdc.gov/ibd/data-statistics.htm\",\n",
    "    \"https://www.niddk.nih.gov/health-information/digestive-diseases/crohns-disease\",\n",
    "    \"https://www.medicalnewstoday.com/articles/151620\",\n",
    "    \"https://www.healthline.com/health/crohns-disease\",\n",
    "    \"https://www.gastro.org/practice-guidance/gi-patient-center/topic/crohns-disease\",\n",
    "    ]\n",
    "\n",
    "flu_websites = wcd.web_crawler(flu_seeds, \"flu\")\n",
    "covid_websites = wcd.web_crawler(covid_seeds, \"covid\")\n",
    "diabetes_websites = wcd.web_crawler(diabetes_seeds, \"diabetes\")\n",
    "addisons_websites = wcd.web_crawler(addisons_seeds, \"addisons\")\n",
    "depression_websites = wcd.web_crawler(depression_seeds, \"depression\")\n",
    "cardiac_arrest_websites = wcd.web_crawler(cardiac_arrest_seeds, \"cardiac\")\n",
    "asthma_websites = wcd.web_crawler(asthma_seeds, \"asthma\")\n",
    "glaucoma_websites = wcd.web_crawler(glaucoma_seeds, \"glaucoma\")\n",
    "leukemia_websites = wcd.web_crawler(leukemia_seeds, \"leukemia\")\n",
    "crohns_disease_websites = wcd.web_crawler(crohns_disease_seeds, \"crohns-disease\")\n",
    "\n",
    "wcd.update_websites_json(\"Flu\", flu_websites, websites, \"updated_websites.json\")\n",
    "wcd.update_websites_json(\"Covid\", covid_websites, websites, \"updated_websites.json\")\n",
    "wcd.update_websites_json(\"Diabetes\", diabetes_websites, websites, \"updated_websites.json\")\n",
    "wcd.update_websites_json(\"Addisons Disease\", addisons_websites, websites, \"updated_websites.json\")\n",
    "wcd.update_websites_json(\"Depression\", depression_websites, websites, \"updated_websites.json\")\n",
    "wcd.update_websites_json(\"Cardiac Arrest\", cardiac_arrest_websites, websites, \"updated_websites.json\")\n",
    "wcd.update_websites_json(\"Asthma\", asthma_websites, websites, \"updated_websites.json\")\n",
    "wcd.update_websites_json(\"Glaucoma\", glaucoma_websites, websites, \"updated_websites.json\")\n",
    "wcd.update_websites_json(\"Leukemia\", leukemia_websites, websites, \"updated_websites.json\")\n",
    "wcd.update_websites_json(\"Crohns Disease\", crohns_disease_websites, websites, \"updated_websites.json\")"
   ]
  },
  {
   "cell_type": "markdown",
   "metadata": {},
   "source": [
    "Get and annotate data for larger model collection"
   ]
  },
  {
   "cell_type": "code",
   "execution_count": null,
   "metadata": {},
   "outputs": [],
   "source": [
    "# Run larger model with updated document data\n",
    "websites = wcd.load_json(\"updated_websites.json\")\n",
    "wcd.scrape_websites(websites, \"updated_doc_data.json\")\n",
    "doc_data = wcd.load_json(\"updated_doc_data.json\")\n",
    "wcd.annotate_data(queries_labeled, doc_data, \"updated_annotated_data.json\")\n",
    "relevance_data = wcd.load_json(\"updated_annotated_data.json\")"
   ]
  },
  {
   "cell_type": "markdown",
   "metadata": {},
   "source": [
    "Run larger model k = 5, k = 10, k= 20"
   ]
  },
  {
   "cell_type": "code",
   "execution_count": 19,
   "metadata": {},
   "outputs": [
    {
     "name": "stdout",
     "output_type": "stream",
     "text": [
      "0.9037500000000002\n",
      "Flu: [('Flu12', 11.884613106488445), ('Flu25', 9.717042191636448), ('Add11', 9.330352154248287), ('Flu2', 9.072388624049017), ('Flu4', 9.072388624049017)]\n",
      "Covid: [('Cov10', 12.579916187228012), ('Cov12', 10.626769460697982), ('Ast10', 7.19556454479423), ('Car4', 7.19039769104845), ('Car10', 7.19039769104845)]\n",
      "Diabetes: [('Dia23', 12.890966210687933), ('Dia41', 12.483063384138411), ('Add23', 9.811580862693923), ('Dia28', 9.373094296056117), ('Car8', 7.318984379107585)]\n",
      "Addisons: [('Dia18', 11.150247346491817), ('Dep2', 9.638250831453469), ('Add15', 8.682918544256754), ('Leu25', 8.322779864072693), ('Cov30', 8.12514474030873)]\n",
      "Depression: [('Dep23', 14.640904885620852), ('Dep20', 10.421341404711919), ('Dep10', 9.133429268887346), ('Cro2', 8.94570694727555), ('Dep9', 8.381024611756205)]\n",
      "Cardiac Arrest: [('Car19', 14.314917625778714), ('Car23', 10.025191135910436), ('Car14', 8.25152719897616), ('Car1', 8.145255880655142), ('Car12', 8.145255880655142)]\n",
      "Asthma: [('Ast23', 15.06838892627746), ('Ast8', 13.452930480204886), ('Ast15', 13.452930480204886), ('Cov29', 9.939434954555507), ('Ast11', 9.583667131133774)]\n",
      "Glaucoma: [('Gla29', 32.410100887001725), ('Gla19', 27.23984205734078), ('Gla22', 27.23984205734078), ('Gla1', 26.35243469192559), ('Gla4', 26.35243469192559)]\n",
      "Leukemia: [('Leu3', 35.271057395822965), ('Leu9', 31.4467610500773), ('Leu11', 31.4467610500773), ('Leu2', 25.10260015792209), ('Gla1', 13.211056048846231)]\n",
      "Crohns Disease: [('Cro22', 16.927138925751695), ('Cro13', 12.026271372402158), ('Cro18', 9.682752474318175), ('Cro2', 8.064191219809581), ('Flu27', 7.952965883243527)]\n"
     ]
    }
   ],
   "source": [
    "model = BM25(doc_data)\n",
    "k_value = 5\n",
    "print(model.mean_avg_precision(queries, relevance_data, k_value))\n",
    "for (query, label) in queries_labeled:\n",
    "    top_k_docs = model.top_docs(query, k_value)\n",
    "    doc_list = [(doc_id, score) for doc_id, score in top_k_docs]\n",
    "    print(f\"{label}: {doc_list}\")"
   ]
  },
  {
   "cell_type": "code",
   "execution_count": 20,
   "metadata": {},
   "outputs": [
    {
     "name": "stdout",
     "output_type": "stream",
     "text": [
      "0.8794133282942805\n",
      "Flu: [('Flu12', 11.884613106488445), ('Flu25', 9.717042191636448), ('Add11', 9.330352154248287), ('Flu2', 9.072388624049017), ('Flu4', 9.072388624049017), ('Flu5', 9.072388624049017), ('Flu10', 9.072388624049017), ('Flu11', 9.072388624049017), ('Flu14', 9.072388624049017), ('Flu15', 9.072388624049017)]\n",
      "Covid: [('Cov10', 12.579916187228012), ('Cov12', 10.626769460697982), ('Ast10', 7.19556454479423), ('Car4', 7.19039769104845), ('Car10', 7.19039769104845), ('Car17', 7.19039769104845), ('Car32', 6.8020878367231), ('Gla6', 5.847050295402177), ('Gla29', 5.78106058122299), ('Flu25', 5.780693156412719)]\n",
      "Diabetes: [('Dia23', 12.890966210687933), ('Dia41', 12.483063384138411), ('Add23', 9.811580862693923), ('Dia28', 9.373094296056117), ('Car8', 7.318984379107585), ('Dep9', 6.894505030763641), ('Cro18', 6.041141700373215), ('Gla29', 5.921850809137401), ('Dep35', 5.674131064143256), ('Dep21', 5.4869268968409735)]\n",
      "Addisons: [('Dia18', 11.150247346491817), ('Dep2', 9.638250831453469), ('Add15', 8.682918544256754), ('Leu25', 8.322779864072693), ('Cov30', 8.12514474030873), ('Car14', 7.75487081975894), ('Car19', 7.749006563612882), ('Add5', 7.653822133448523), ('Add20', 7.653822133448523), ('Dep23', 7.458194616623807)]\n",
      "Depression: [('Dep23', 14.640904885620852), ('Dep20', 10.421341404711919), ('Dep10', 9.133429268887346), ('Cro2', 8.94570694727555), ('Dep9', 8.381024611756205), ('Dep21', 6.734842523012661), ('Dep25', 6.734842523012661), ('Dep35', 6.082265994035432), ('Dia46', 5.0339654263991545), ('Dia10', 4.923075870685519)]\n",
      "Cardiac Arrest: [('Car19', 14.314917625778714), ('Car23', 10.025191135910436), ('Car14', 8.25152719897616), ('Car1', 8.145255880655142), ('Car12', 8.145255880655142), ('Flu25', 7.91939697080009), ('Car8', 7.168703268838266), ('Cov30', 6.517832254060554), ('Car9', 6.224861097232995), ('Car7', 6.107205538668147)]\n",
      "Asthma: [('Ast23', 15.06838892627746), ('Ast8', 13.452930480204886), ('Ast15', 13.452930480204886), ('Cov29', 9.939434954555507), ('Ast11', 9.583667131133774), ('Ast10', 8.608812224115814), ('Flu9', 8.532821156698283), ('Flu26', 7.800657215161064), ('Flu6', 7.506898855739076), ('Flu12', 7.447301430204348)]\n",
      "Glaucoma: [('Gla29', 32.410100887001725), ('Gla19', 27.23984205734078), ('Gla22', 27.23984205734078), ('Gla1', 26.35243469192559), ('Gla4', 26.35243469192559), ('Gla7', 26.35243469192559), ('Gla8', 26.35243469192559), ('Gla11', 26.35243469192559), ('Gla13', 26.35243469192559), ('Gla17', 26.35243469192559)]\n",
      "Leukemia: [('Leu3', 35.271057395822965), ('Leu9', 31.4467610500773), ('Leu11', 31.4467610500773), ('Leu2', 25.10260015792209), ('Gla1', 13.211056048846231), ('Gla4', 13.211056048846231), ('Gla7', 13.211056048846231), ('Gla8', 13.211056048846231), ('Gla11', 13.211056048846231), ('Gla13', 13.211056048846231)]\n",
      "Crohns Disease: [('Cro22', 16.927138925751695), ('Cro13', 12.026271372402158), ('Cro18', 9.682752474318175), ('Cro2', 8.064191219809581), ('Flu27', 7.952965883243527), ('Cro5', 6.88829423065809), ('Cro10', 6.88829423065809), ('Cro31', 6.88829423065809), ('Cro16', 6.87334757058564), ('Cro3', 6.363495503382506)]\n"
     ]
    }
   ],
   "source": [
    "model = BM25(doc_data)\n",
    "k_value = 10\n",
    "print(model.mean_avg_precision(queries, relevance_data, k_value))\n",
    "for (query, label) in queries_labeled:\n",
    "    top_k_docs = model.top_docs(query, k_value)\n",
    "    doc_list = [(doc_id, score) for doc_id, score in top_k_docs]\n",
    "    print(f\"{label}: {doc_list}\")"
   ]
  },
  {
   "cell_type": "code",
   "execution_count": 23,
   "metadata": {},
   "outputs": [
    {
     "name": "stdout",
     "output_type": "stream",
     "text": [
      "0.7782362997300725\n",
      "Flu: [('Flu12', 11.884613106488445), ('Flu25', 9.717042191636448), ('Add11', 9.330352154248287), ('Flu2', 9.072388624049017), ('Flu4', 9.072388624049017), ('Flu5', 9.072388624049017), ('Flu10', 9.072388624049017), ('Flu11', 9.072388624049017), ('Flu14', 9.072388624049017), ('Flu15', 9.072388624049017), ('Flu24', 9.072388624049017), ('Flu29', 9.072388624049017), ('Car9', 7.514019890974677), ('Cov35', 7.192605043736835), ('Cov10', 6.812826100881686), ('Car8', 6.764884864847776), ('Car1', 6.731475470731808), ('Car12', 6.731475470731808), ('Flu20', 6.709025690775732), ('Car15', 6.396875797764801)]\n",
      "Covid: [('Cov10', 12.579916187228012), ('Cov12', 10.626769460697982), ('Ast10', 7.19556454479423), ('Car4', 7.19039769104845), ('Car10', 7.19039769104845), ('Car17', 7.19039769104845), ('Car32', 6.8020878367231), ('Gla6', 5.847050295402177), ('Gla29', 5.78106058122299), ('Flu25', 5.780693156412719), ('Car7', 5.421114170613061), ('Ast23', 5.137587340294431), ('Ast8', 5.015591169017272), ('Ast15', 5.015591169017272), ('Car14', 4.956121600184323), ('Cov8', 4.807585829348008), ('Gla19', 4.604325777891132), ('Gla22', 4.604325777891132), ('Dep23', 4.571676587146367), ('Gla5', 4.5447344122257585)]\n",
      "Diabetes: [('Dia23', 12.890966210687933), ('Dia41', 12.483063384138411), ('Add23', 9.811580862693923), ('Dia28', 9.373094296056117), ('Car8', 7.318984379107585), ('Dep9', 6.894505030763641), ('Cro18', 6.041141700373215), ('Gla29', 5.921850809137401), ('Dep35', 5.674131064143256), ('Dep21', 5.4869268968409735), ('Dep25', 5.4869268968409735), ('Dep23', 5.405559199485833), ('Dep28', 5.381892718691994), ('Dia10', 5.381594846825171), ('Gla19', 5.172452274505385), ('Gla22', 5.172452274505385), ('Dep19', 5.154374285012319), ('Ast13', 5.150442228057347), ('Cro2', 5.090289287136072), ('Dep10', 4.864590313484419)]\n",
      "Addisons: [('Dia18', 11.150247346491817), ('Dep2', 9.638250831453469), ('Add15', 8.682918544256754), ('Leu25', 8.322779864072693), ('Cov30', 8.12514474030873), ('Car14', 7.75487081975894), ('Car19', 7.749006563612882), ('Add5', 7.653822133448523), ('Add20', 7.653822133448523), ('Dep23', 7.458194616623807), ('Dep20', 7.052470405517134), ('Add26', 6.91179115923333), ('Add11', 6.7325172885317315), ('Cro2', 6.583019259468314), ('Dep41', 6.461623350771767), ('Dia10', 5.726782078167156), ('Flu25', 5.721307642042088), ('Gla47', 5.6798392994529765), ('Dep28', 5.550900492380508), ('Dep10', 5.454802960198773)]\n",
      "Depression: [('Dep23', 14.640904885620852), ('Dep20', 10.421341404711919), ('Dep10', 9.133429268887346), ('Cro2', 8.94570694727555), ('Dep9', 8.381024611756205), ('Dep21', 6.734842523012661), ('Dep25', 6.734842523012661), ('Dep35', 6.082265994035432), ('Dia46', 5.0339654263991545), ('Dia10', 4.923075870685519), ('Dia40', 4.681790553918838), ('Ast27', 4.456778832272741), ('Dep18', 4.221338430452461), ('Cov30', 4.118708439943292), ('Cov16', 4.011493210809234), ('Car20', 3.988152588420963), ('Add26', 3.984653727015528), ('Dep3', 3.9090923595478353), ('Dia2', 3.897531429657484), ('Gla30', 3.6947682164992472)]\n",
      "Cardiac Arrest: [('Car19', 14.314917625778714), ('Car23', 10.025191135910436), ('Car14', 8.25152719897616), ('Car1', 8.145255880655142), ('Car12', 8.145255880655142), ('Flu25', 7.91939697080009), ('Car8', 7.168703268838266), ('Cov30', 6.517832254060554), ('Car9', 6.224861097232995), ('Car7', 6.107205538668147), ('Car26', 5.6597281138539675), ('Ast30', 5.424661760374175), ('Dia46', 5.4082587810492395), ('Cov17', 5.348401661328327), ('Cov33', 5.348401661328327), ('Cov10', 5.289787787322078), ('Car15', 5.145672093119111), ('Car3', 5.1108175444247035), ('Flu9', 4.607429613246249), ('Ast11', 4.580841621416765)]\n",
      "Asthma: [('Ast23', 15.06838892627746), ('Ast8', 13.452930480204886), ('Ast15', 13.452930480204886), ('Cov29', 9.939434954555507), ('Ast11', 9.583667131133774), ('Ast10', 8.608812224115814), ('Flu9', 8.532821156698283), ('Flu26', 7.800657215161064), ('Flu6', 7.506898855739076), ('Flu12', 7.447301430204348), ('Flu34', 7.4399212399935575), ('Flu3', 7.359930608631604), ('Flu25', 7.0786987844996805), ('Flu13', 6.900616439074688), ('Cov23', 6.888629738963701), ('Flu8', 6.842677078478276), ('Ast27', 6.802395624369661), ('Cov5', 6.704137516895113), ('Ast36', 6.6784371374883404), ('Cov34', 6.627089132477877)]\n",
      "Glaucoma: [('Gla29', 32.410100887001725), ('Gla19', 27.23984205734078), ('Gla22', 27.23984205734078), ('Gla1', 26.35243469192559), ('Gla4', 26.35243469192559), ('Gla7', 26.35243469192559), ('Gla8', 26.35243469192559), ('Gla11', 26.35243469192559), ('Gla13', 26.35243469192559), ('Gla17', 26.35243469192559), ('Gla20', 26.35243469192559), ('Gla25', 26.35243469192559), ('Gla41', 26.35243469192559), ('Gla46', 26.35243469192559), ('Gla47', 14.631593279129557), ('Gla30', 13.775277200745887), ('Gla43', 13.206567238290642), ('Gla32', 9.94837236809953), ('Gla31', 9.539761997326352), ('Gla16', 7.891730613391321)]\n",
      "Leukemia: [('Leu3', 35.271057395822965), ('Leu9', 31.4467610500773), ('Leu11', 31.4467610500773), ('Leu2', 25.10260015792209), ('Gla1', 13.211056048846231), ('Gla4', 13.211056048846231), ('Gla7', 13.211056048846231), ('Gla8', 13.211056048846231), ('Gla11', 13.211056048846231), ('Gla13', 13.211056048846231), ('Gla17', 13.211056048846231), ('Gla20', 13.211056048846231), ('Gla25', 13.211056048846231), ('Gla41', 13.211056048846231), ('Gla46', 13.211056048846231), ('Leu19', 12.879310731467553), ('Leu25', 9.829910563127228), ('Leu20', 8.78147444733563), ('Cro18', 8.347377825328586), ('Cro2', 7.3171907067395185)]\n",
      "Crohns Disease: [('Cro22', 16.927138925751695), ('Cro13', 12.026271372402158), ('Cro18', 9.682752474318175), ('Cro2', 8.064191219809581), ('Flu27', 7.952965883243527), ('Cro5', 6.88829423065809), ('Cro10', 6.88829423065809), ('Cro31', 6.88829423065809), ('Cro16', 6.87334757058564), ('Cro3', 6.363495503382506), ('Cro28', 6.115356247165691), ('Ast10', 6.07598312269635), ('Dep7', 5.672493088829881), ('Ast32', 4.744197021652984), ('Dia25', 4.274784130517432), ('Cov12', 4.209920762859773), ('Cov49', 4.06228429825301), ('Dia1', 3.963220026271813), ('Dia4', 3.963220026271813), ('Dia6', 3.963220026271813)]\n"
     ]
    }
   ],
   "source": [
    "model = BM25(doc_data)\n",
    "k_value = 20\n",
    "print(model.mean_avg_precision(queries, relevance_data, k_value))\n",
    "for (query, label) in queries_labeled:\n",
    "    top_k_docs = model.top_docs(query, k_value)\n",
    "    doc_list = [(doc_id, score) for doc_id, score in top_k_docs]\n",
    "    print(f\"{label}: {doc_list}\")"
   ]
  }
 ],
 "metadata": {
  "kernelspec": {
   "display_name": "base",
   "language": "python",
   "name": "python3"
  },
  "language_info": {
   "codemirror_mode": {
    "name": "ipython",
    "version": 3
   },
   "file_extension": ".py",
   "mimetype": "text/x-python",
   "name": "python",
   "nbconvert_exporter": "python",
   "pygments_lexer": "ipython3",
   "version": "3.9.18"
  }
 },
 "nbformat": 4,
 "nbformat_minor": 2
}
