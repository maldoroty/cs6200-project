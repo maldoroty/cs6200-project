{
 "cells": [
  {
   "cell_type": "markdown",
   "metadata": {},
   "source": [
    "# Final Model Testing\n"
   ]
  },
  {
   "cell_type": "code",
   "execution_count": 11,
   "metadata": {},
   "outputs": [],
   "source": [
    "import web_crawler_data_set_up as wcd\n",
    "from updated_rel_BM25 import BM25_updated_rel\n",
    "from Final_Model import BM25_updated_qe"
   ]
  },
  {
   "cell_type": "markdown",
   "metadata": {},
   "source": [
    "Gathering initial data and setting up problem"
   ]
  },
  {
   "cell_type": "code",
   "execution_count": 2,
   "metadata": {},
   "outputs": [],
   "source": [
    "queries_labeled = [\n",
    "    (\"sudden fever body aches\", \"Flu\"),\n",
    "    (\"difficulty breathing loss smell event\", \"Covid\"),\n",
    "    (\"increased thirst unexpected weight loss\", \"Diabetes\"),\n",
    "    (\"extreme fatigue normal sleep routine\", \"Addisons\"),\n",
    "    (\"persistent sadness low energy\", \"Depression\"),\n",
    "    (\"chest pain heart palpitations\", \"Cardiac Arrest\"),\n",
    "    (\"wheezing exhaling worsened respiratory virus\", \"Asthma\"),\n",
    "    (\"blurred vision blind spots halos around lights\", \"Glaucoma\"),\n",
    "    (\"swollen lymph nodes tiny red spots skin easy bruising\", \"Leukemia\"),\n",
    "    (\"bloody stool feel need pass stools bowels empty\", \"Crohns Disease\")\n",
    "    ]"
   ]
  },
  {
   "cell_type": "code",
   "execution_count": 3,
   "metadata": {},
   "outputs": [],
   "source": [
    "websites = wcd.load_json(\"websites.json\")\n",
    "wcd.scrape_websites(websites, \"doc_data.json\")\n",
    "doc_data = wcd.load_json(\"doc_data.json\")\n",
    "\n",
    "wcd.annotate_data(queries_labeled, doc_data, \"annotated_data.json\")"
   ]
  },
  {
   "cell_type": "markdown",
   "metadata": {},
   "source": [
    "Model testing on original smaller dataset"
   ]
  },
  {
   "cell_type": "code",
   "execution_count": 35,
   "metadata": {},
   "outputs": [
    {
     "name": "stdout",
     "output_type": "stream",
     "text": [
      "Query: 'sudden fever body aches'\n",
      "    DCG: 75.22694038245787\n",
      "    Flu: [('Flu2', 5), ('Flu3', 5), ('Add3', 5), ('Cov1', 4), ('Car2', 3)]\n",
      "\n",
      "Query: 'difficulty breathing loss smell event'\n",
      "    DCG: 44.41653439949567\n",
      "    Covid: [('Cov1', 5), ('Cov5', 4), ('Flu1', 2), ('Flu2', 2), ('Cov3', 2)]\n",
      "\n",
      "Query: 'increased thirst unexpected weight loss'\n",
      "    DCG: 36.84537735663818\n",
      "    Diabetes: [('Dia5', 5), ('Cov5', 2), ('Add1', 2), ('Add3', 2), ('Dep1', 2)]\n",
      "\n",
      "Query: 'extreme fatigue normal sleep routine'\n",
      "    DCG: 60.226886783190885\n",
      "    Addisons: [('Dia4', 5), ('Add2', 4), ('Dep2', 4), ('Dep3', 4), ('Car3', 4)]\n",
      "\n",
      "Query: 'persistent sadness low energy'\n",
      "    DCG: 48.139240631789235\n",
      "    Depression: [('Dep3', 5), ('Dep2', 4), ('Dep4', 3), ('Cro2', 3), ('Dia1', 2)]\n",
      "\n",
      "Query: 'chest pain heart palpitations'\n",
      "    DCG: 41.36909637092401\n",
      "    Cardiac Arrest: [('Car1', 5), ('Car2', 3), ('Car3', 3), ('Flu2', 2), ('Cov1', 2)]\n",
      "\n",
      "Query: 'wheezing exhaling worsened respiratory virus'\n",
      "    DCG: 53.6866518607274\n",
      "    Asthma: [('Ast1', 5), ('Cov3', 4), ('Ast6', 4), ('Flu1', 3), ('Flu2', 3)]\n",
      "\n",
      "Query: 'blurred vision blind spots halos around lights'\n",
      "    DCG: 54.87635172602312\n",
      "    Glaucoma: [('Gla1', 5), ('Gla4', 5), ('Gla2', 3), ('Ast4', 1), ('Gla3', 1)]\n",
      "\n",
      "Query: 'swollen lymph nodes tiny red spots skin easy bruising'\n",
      "    DCG: 42.78147566887979\n",
      "    Leukemia: [('Leu1', 5), ('Leu2', 4), ('Gla4', 2), ('Dia1', 1), ('Ast6', 1)]\n",
      "\n",
      "Query: 'bloody stool feel need pass stools bowels empty'\n",
      "    DCG: 58.23411668893256\n",
      "    Crohns Disease: [('Cro3', 5), ('Cro4', 5), ('Cro1', 3), ('Cro2', 3), ('Cov5', 2)]\n",
      "\n"
     ]
    }
   ],
   "source": [
    "relevance_data = wcd.load_json(\"annotated_data.json\")\n",
    "queries = [query[0] for query in queries_labeled]\n",
    "doc_data = wcd.load_json(\"doc_data.json\")\n",
    "\n",
    "model = BM25_updated_rel(doc_data)\n",
    "k_value = 5\n",
    "\n",
    "for (query, label) in queries_labeled:\n",
    "    top_k_docs = model.top_docs(query, k_value, metric=\"zero_to_five\")\n",
    "    doc_list = [(doc_id, score) for doc_id, score in top_k_docs]\n",
    "    dcg = model.dcg(top_k_docs)\n",
    "    print(f\"Query: '{query}'\")\n",
    "    print(f\"    DCG: {dcg}\")\n",
    "    print(f\"    {label}: {doc_list}\\n\")\n"
   ]
  },
  {
   "cell_type": "code",
   "execution_count": 36,
   "metadata": {},
   "outputs": [
    {
     "name": "stdout",
     "output_type": "stream",
     "text": [
      "Query: 'sudden fever body aches'\n",
      "    DCG: 0.7375861965459806\n",
      "    Flu: [('Flu2', 5), ('Flu3', 5), ('Add3', 5), ('Cov1', 4), ('Car2', 3), ('Flu1', 2), ('Flu4', 2), ('Cov5', 2), ('Dep1', 2), ('Car1', 2), ('Car4', 2), ('Gla3', 2), ('Leu1', 2), ('Cro1', 2), ('Cro2', 2), ('Cro3', 2), ('Cov2', 1), ('Cov4', 1), ('Dia1', 1), ('Dia4', 1), ('Add1', 1), ('Add2', 1), ('Dep2', 1), ('Dep3', 1), ('Dep5', 1), ('Ast1', 1), ('Ast4', 1), ('Ast6', 1), ('Leu2', 1), ('Cro4', 1), ('Flu5', 0), ('Cov3', 0), ('Dia2', 0), ('Dia3', 0), ('Dia5', 0), ('Add4', 0), ('Dep4', 0), ('Car3', 0), ('Car5', 0), ('Ast2', 0), ('Ast3', 0), ('Ast5', 0), ('Gla1', 0), ('Gla2', 0), ('Gla4', 0), ('Gla5', 0), ('Leu3', 0), ('Leu4', 0), ('Leu5', 0), ('Cro5', 0)]\n",
      "\n",
      "Query: 'difficulty breathing loss smell event'\n",
      "    DCG: 1.0\n",
      "    Covid: [('Cov1', 5), ('Cov5', 4), ('Flu1', 2), ('Flu2', 2), ('Cov3', 2), ('Cov4', 2), ('Add2', 2), ('Dep2', 2), ('Dep3', 2), ('Car3', 2), ('Ast1', 2), ('Gla1', 2), ('Flu3', 1), ('Cov2', 1), ('Dia4', 1), ('Dia5', 1), ('Add1', 1), ('Add3', 1), ('Dep1', 1), ('Dep4', 1), ('Car1', 1), ('Car2', 1), ('Car4', 1), ('Ast3', 1), ('Ast4', 1), ('Ast6', 1), ('Gla2', 1), ('Gla3', 1), ('Gla4', 1), ('Cro1', 1), ('Cro2', 1), ('Cro3', 1), ('Flu4', 0), ('Flu5', 0), ('Dia1', 0), ('Dia2', 0), ('Dia3', 0), ('Add4', 0), ('Dep5', 0), ('Car5', 0), ('Ast2', 0), ('Ast5', 0), ('Gla5', 0), ('Leu1', 0), ('Leu2', 0), ('Leu3', 0), ('Leu4', 0), ('Leu5', 0), ('Cro4', 0), ('Cro5', 0)]\n",
      "\n",
      "Query: 'increased thirst unexpected weight loss'\n",
      "    DCG: 0.43067655807339306\n",
      "    Diabetes: [('Dia5', 5), ('Cov5', 2), ('Add1', 2), ('Add3', 2), ('Dep1', 2), ('Dep3', 2), ('Dep4', 2), ('Gla1', 2), ('Cro1', 2), ('Cro2', 2), ('Cro4', 2), ('Flu4', 1), ('Cov1', 1), ('Cov3', 1), ('Cov4', 1), ('Dia1', 1), ('Dia3', 1), ('Dia4', 1), ('Add2', 1), ('Dep2', 1), ('Dep5', 1), ('Car1', 1), ('Car2', 1), ('Car3', 1), ('Ast4', 1), ('Gla2', 1), ('Gla3', 1), ('Leu1', 1), ('Leu2', 1), ('Leu3', 1), ('Cro3', 1), ('Flu1', 0), ('Flu2', 0), ('Flu3', 0), ('Flu5', 0), ('Cov2', 0), ('Dia2', 0), ('Add4', 0), ('Car4', 0), ('Car5', 0), ('Ast1', 0), ('Ast2', 0), ('Ast3', 0), ('Ast5', 0), ('Ast6', 0), ('Gla4', 0), ('Gla5', 0), ('Leu4', 0), ('Leu5', 0), ('Cro5', 0)]\n",
      "\n",
      "Query: 'extreme fatigue normal sleep routine'\n",
      "    DCG: 0.639909328045346\n",
      "    Addisons: [('Dia4', 5), ('Add2', 4), ('Dep2', 4), ('Dep3', 4), ('Car3', 4), ('Leu3', 4), ('Add1', 3), ('Add3', 3), ('Dep1', 3), ('Dep4', 3), ('Car1', 3), ('Ast3', 3), ('Ast4', 3), ('Gla2', 3), ('Leu2', 3), ('Cro2', 3), ('Flu2', 2), ('Dia5', 2), ('Car2', 2), ('Gla1', 2), ('Gla4', 2), ('Cro3', 2), ('Cro4', 2), ('Flu4', 1), ('Cov1', 1), ('Cov4', 1), ('Cov5', 1), ('Dep5', 1), ('Ast6', 1), ('Gla3', 1), ('Leu1', 1), ('Cro1', 1), ('Flu1', 0), ('Flu3', 0), ('Flu5', 0), ('Cov2', 0), ('Cov3', 0), ('Dia1', 0), ('Dia2', 0), ('Dia3', 0), ('Add4', 0), ('Car4', 0), ('Car5', 0), ('Ast1', 0), ('Ast2', 0), ('Ast5', 0), ('Gla5', 0), ('Leu4', 0), ('Leu5', 0), ('Cro5', 0)]\n",
      "\n",
      "Query: 'persistent sadness low energy'\n",
      "    DCG: 0.9674679834891693\n",
      "    Depression: [('Dep3', 5), ('Dep2', 4), ('Dep4', 3), ('Cro2', 3), ('Dia1', 2), ('Dep1', 2), ('Flu1', 1), ('Flu2', 1), ('Flu4', 1), ('Cov1', 1), ('Cov4', 1), ('Dia3', 1), ('Add1', 1), ('Add2', 1), ('Add3', 1), ('Dep5', 1), ('Ast6', 1), ('Gla2', 1), ('Gla4', 1), ('Leu1', 1), ('Leu2', 1), ('Leu3', 1), ('Cro1', 1), ('Cro3', 1), ('Cro4', 1), ('Flu3', 0), ('Flu5', 0), ('Cov2', 0), ('Cov3', 0), ('Cov5', 0), ('Dia2', 0), ('Dia4', 0), ('Dia5', 0), ('Add4', 0), ('Car1', 0), ('Car2', 0), ('Car3', 0), ('Car4', 0), ('Car5', 0), ('Ast1', 0), ('Ast2', 0), ('Ast3', 0), ('Ast4', 0), ('Ast5', 0), ('Gla1', 0), ('Gla3', 0), ('Gla5', 0), ('Leu4', 0), ('Leu5', 0), ('Cro5', 0)]\n",
      "\n",
      "Query: 'chest pain heart palpitations'\n",
      "    DCG: 0.8213137146137828\n",
      "    Cardiac Arrest: [('Car1', 5), ('Car2', 3), ('Car3', 3), ('Flu2', 2), ('Cov1', 2), ('Dia1', 2), ('Ast3', 2), ('Flu1', 1), ('Flu3', 1), ('Cov3', 1), ('Cov4', 1), ('Cov5', 1), ('Dia4', 1), ('Dia5', 1), ('Add1', 1), ('Add2', 1), ('Dep1', 1), ('Dep3', 1), ('Car4', 1), ('Ast1', 1), ('Ast4', 1), ('Ast6', 1), ('Gla2', 1), ('Gla4', 1), ('Leu2', 1), ('Cro1', 1), ('Cro2', 1), ('Cro3', 1), ('Cro4', 1), ('Flu4', 0), ('Flu5', 0), ('Cov2', 0), ('Dia2', 0), ('Dia3', 0), ('Add3', 0), ('Add4', 0), ('Dep2', 0), ('Dep4', 0), ('Dep5', 0), ('Car5', 0), ('Ast2', 0), ('Ast5', 0), ('Gla1', 0), ('Gla3', 0), ('Gla5', 0), ('Leu1', 0), ('Leu3', 0), ('Leu4', 0), ('Leu5', 0), ('Cro5', 0)]\n",
      "\n",
      "Query: 'wheezing exhaling worsened respiratory virus'\n",
      "    DCG: 1.0\n",
      "    Asthma: [('Ast1', 5), ('Cov3', 4), ('Ast6', 4), ('Flu1', 3), ('Flu2', 3), ('Flu3', 3), ('Flu4', 3), ('Cov2', 3), ('Cov4', 3), ('Cov1', 1), ('Cov5', 1), ('Leu3', 1), ('Cro1', 1), ('Flu5', 0), ('Dia1', 0), ('Dia2', 0), ('Dia3', 0), ('Dia4', 0), ('Dia5', 0), ('Add1', 0), ('Add2', 0), ('Add3', 0), ('Add4', 0), ('Dep1', 0), ('Dep2', 0), ('Dep3', 0), ('Dep4', 0), ('Dep5', 0), ('Car1', 0), ('Car2', 0), ('Car3', 0), ('Car4', 0), ('Car5', 0), ('Ast2', 0), ('Ast3', 0), ('Ast4', 0), ('Ast5', 0), ('Gla1', 0), ('Gla2', 0), ('Gla3', 0), ('Gla4', 0), ('Gla5', 0), ('Leu1', 0), ('Leu2', 0), ('Leu4', 0), ('Leu5', 0), ('Cro2', 0), ('Cro3', 0), ('Cro4', 0), ('Cro5', 0)]\n",
      "\n",
      "Query: 'blurred vision blind spots halos around lights'\n",
      "    DCG: 0\n",
      "    Glaucoma: [('Gla1', 5), ('Gla4', 5), ('Gla2', 3), ('Ast4', 1), ('Gla3', 1), ('Leu1', 1), ('Leu2', 1), ('Flu1', 0), ('Flu2', 0), ('Flu3', 0), ('Flu4', 0), ('Flu5', 0), ('Cov1', 0), ('Cov2', 0), ('Cov3', 0), ('Cov4', 0), ('Cov5', 0), ('Dia1', 0), ('Dia2', 0), ('Dia3', 0), ('Dia4', 0), ('Dia5', 0), ('Add1', 0), ('Add2', 0), ('Add3', 0), ('Add4', 0), ('Dep1', 0), ('Dep2', 0), ('Dep3', 0), ('Dep4', 0), ('Dep5', 0), ('Car1', 0), ('Car2', 0), ('Car3', 0), ('Car4', 0), ('Car5', 0), ('Ast1', 0), ('Ast2', 0), ('Ast3', 0), ('Ast5', 0), ('Ast6', 0), ('Gla5', 0), ('Leu3', 0), ('Leu4', 0), ('Leu5', 0), ('Cro1', 0), ('Cro2', 0), ('Cro3', 0), ('Cro4', 0), ('Cro5', 0)]\n",
      "\n",
      "Query: 'swollen lymph nodes tiny red spots skin easy bruising'\n",
      "    DCG: 0\n",
      "    Leukemia: [('Leu1', 5), ('Leu2', 4), ('Gla4', 2), ('Dia1', 1), ('Ast6', 1), ('Gla1', 1), ('Gla3', 1), ('Leu3', 1), ('Cro2', 1), ('Cro3', 1), ('Cro4', 1), ('Flu1', 0), ('Flu2', 0), ('Flu3', 0), ('Flu4', 0), ('Flu5', 0), ('Cov1', 0), ('Cov2', 0), ('Cov3', 0), ('Cov4', 0), ('Cov5', 0), ('Dia2', 0), ('Dia3', 0), ('Dia4', 0), ('Dia5', 0), ('Add1', 0), ('Add2', 0), ('Add3', 0), ('Add4', 0), ('Dep1', 0), ('Dep2', 0), ('Dep3', 0), ('Dep4', 0), ('Dep5', 0), ('Car1', 0), ('Car2', 0), ('Car3', 0), ('Car4', 0), ('Car5', 0), ('Ast1', 0), ('Ast2', 0), ('Ast3', 0), ('Ast4', 0), ('Ast5', 0), ('Gla2', 0), ('Gla5', 0), ('Leu4', 0), ('Leu5', 0), ('Cro1', 0), ('Cro5', 0)]\n",
      "\n",
      "Query: 'bloody stool feel need pass stools bowels empty'\n",
      "    DCG: 1.0\n",
      "    Crohns Disease: [('Cro3', 5), ('Cro4', 5), ('Cro1', 3), ('Cro2', 3), ('Cov5', 2), ('Flu1', 1), ('Flu2', 1), ('Flu3', 1), ('Flu4', 1), ('Cov2', 1), ('Cov3', 1), ('Cov4', 1), ('Dia3', 1), ('Dia5', 1), ('Add1', 1), ('Add2', 1), ('Add3', 1), ('Dep1', 1), ('Dep2', 1), ('Dep3', 1), ('Dep4', 1), ('Dep5', 1), ('Ast1', 1), ('Ast6', 1), ('Gla1', 1), ('Gla2', 1), ('Gla3', 1), ('Gla4', 1), ('Leu1', 1), ('Leu2', 1), ('Flu5', 0), ('Cov1', 0), ('Dia1', 0), ('Dia2', 0), ('Dia4', 0), ('Add4', 0), ('Car1', 0), ('Car2', 0), ('Car3', 0), ('Car4', 0), ('Car5', 0), ('Ast2', 0), ('Ast3', 0), ('Ast4', 0), ('Ast5', 0), ('Gla5', 0), ('Leu3', 0), ('Leu4', 0), ('Leu5', 0), ('Cro5', 0)]\n",
      "\n"
     ]
    }
   ],
   "source": [
    "relevance_data = wcd.load_json(\"annotated_data.json\")\n",
    "queries = [query[0] for query in queries_labeled]\n",
    "doc_data = wcd.load_json(\"doc_data.json\")\n",
    "\n",
    "model = BM25_updated_qe(doc_data, n=1)\n",
    "k_value = 5\n",
    "\n",
    "for (query, label) in queries_labeled:\n",
    "    docs = model.top_docs(query, k_value, metric=\"zero_to_five\", to_sort=False)\n",
    "    \n",
    "    sorted_top_docs = sorted(docs, key=lambda x: x[1], reverse = True)\n",
    "\n",
    "    doc_list = [(doc_id, score) for doc_id, score in sorted_top_docs]\n",
    "\n",
    "    ndcg = model.ndcg(docs[:k_value])\n",
    "    print(f\"Query: '{query}'\")\n",
    "    print(f\"    DCG: {ndcg}\")\n",
    "    print(f\"    {label}: {doc_list}\\n\")\n"
   ]
  },
  {
   "cell_type": "markdown",
   "metadata": {},
   "source": [
    "Using website seeds for webcrawling to add to collection size"
   ]
  },
  {
   "cell_type": "code",
   "execution_count": 4,
   "metadata": {},
   "outputs": [],
   "source": [
    "# Gather websites for more documents\n",
    "flu_seeds = [\"https://www.who.int/news-room/fact-sheets/detail/influenza-(seasonal)\",\n",
    "    \"https://www.mayoclinic.org/diseases-conditions/search-results?q=flu\",\n",
    "    \"https://my.clevelandclinic.org/health/diseases/4335-influenza-flu\",\n",
    "    \"https://www.healthline.com/health/flu-causes\",\n",
    "    \"https://www.yalemedicine.org/conditions/flu\",\n",
    "    \"https://www.cdc.gov/flu/symptoms/symptoms.htm\"\n",
    "    ]\n",
    "\n",
    "covid_seeds = [\n",
    "    \"https://www.who.int/emergencies/diseases/novel-coronavirus-2019\",\n",
    "    \"https://www.cdc.gov/coronavirus/2019-ncov/index.html\",\n",
    "    \"https://www.mayoclinic.org/diseases-conditions/coronavirus/symptoms-causes/syc-20479963\",\n",
    "    ]\n",
    "\n",
    "diabetes_seeds = [\n",
    "    \"https://www.medicalnewstoday.com/info/diabetes\",\n",
    "    \"https://www.mayoclinic.org/diseases-conditions/diabetes/symptoms-causes/syc-20371444\",\n",
    "    \"https://www.cdc.gov/diabetes/index.html\",\n",
    "    ]\n",
    "\n",
    "addisons_seeds = [\"https://www.niddk.nih.gov/health-information/endocrine-diseases/addisons-disease\",\n",
    "    \"https://www.medicalnewstoday.com/articles/164648\",\n",
    "    \"https://www.healthline.com/health/addisons-disease\",\n",
    "    \"https://rarediseases.org/rare-diseases/addisons-disease/\",\n",
    "    \"https://www.mayoclinic.org/diseases-conditions/addisons-disease/symptoms-causes/syc-20350293\",\n",
    "    \"https://www.webmd.com/a-to-z-guides/addisons-disease#1\",\n",
    "    \"https://rarediseases.info.nih.gov/diseases/5779/addisons-disease\",\n",
    "    \"https://www.cedars-sinai.org/health-library/diseases-and-conditions/a/addisons-disease.html\",\n",
    "    \"https://www.uptodate.com/contents/addisons-disease-clinical-manifestations-diagnosis-and-treatment\",\n",
    "    \"https://patient.info/doctor/addisons-disease\",\n",
    "    \"https://emedicine.medscape.com/article/116467-overview\",\n",
    "    \"https://www.cdc.gov/genomics/resources/diseases/addisons.htm\"\n",
    "    ]   \n",
    "\n",
    "depression_seeds = [\n",
    "    \"https://www.mayoclinic.org/diseases-conditions/depression/symptoms-causes/syc-20356007\",\n",
    "    \"https://www.webmd.com/depression/default.htm\",\n",
    "    \"https://www.psychologytoday.com/us/basics/depression\",\n",
    "    \"https://www.nimh.nih.gov/health/topics/depression/index.shtml\",\n",
    "    ]\n",
    "\n",
    "cardiac_arrest_seeds = [\"https://www.heart.org/en/health-topics/heart-attack\",\n",
    "    \"https://www.healthline.com/health/heart-attack\",\n",
    "    \"https://www.mayoclinic.org/diseases-conditions/sudden-cardiac-arrest/symptoms-causes/syc-20350634\",\n",
    "    \"https://www.heart.org/en/health-topics/cardiac-arrest\",\n",
    "    \"https://www.nhlbi.nih.gov/health-topics/sudden-cardiac-arrest\",\n",
    "    \"https://www.medicinenet.com/sudden_cardiac_arrest/article.htm\",\n",
    "    \"https://www.health.harvard.edu/heart-health/sudden-cardiac-arrest-what-you-need-to-know\",\n",
    "    \"https://www.nhs.uk/conditions/cardiac-arrest/\",\n",
    "    \"https://www.heart.org/en/news/2023/02/09/this-is-what-a-cardiac-arrest-looks-like-and-why-you-need-to-know\"\n",
    "    ]\n",
    "\n",
    "asthma_seeds = [\n",
    "    \"https://www.mayoclinic.org/diseases-conditions/asthma/symptoms-causes/syc-20369653\",\n",
    "    \"https://www.webmd.com/asthma/default.htm\",\n",
    "    \"https://www.lung.org/lung-health-diseases/lung-disease-lookup/asthma\",\n",
    "    \"https://www.cdc.gov/asthma/index.html\",\n",
    "    \"https://www.nhlbi.nih.gov/health-topics/asthma\",\n",
    "    \"https://www.healthline.com/health/asthma\",\n",
    "    \"https://www.medicalnewstoday.com/articles/323129\",\n",
    "    \"https://www.aaaai.org/conditions-and-treatments/asthma\",\n",
    "    ]\n",
    "\n",
    "glaucoma_seeds = [\n",
    "    \"https://www.mayoclinic.org/diseases-conditions/glaucoma/symptoms-causes/syc-20372839\",\n",
    "    \"https://www.webmd.com/eye-health/glaucoma/default.htm\",\n",
    "    \"https://www.aao.org/eye-health/diseases/what-is-glaucoma\",\n",
    "    \"https://www.glaucoma.org/glaucoma/\",\n",
    "    ]\n",
    "\n",
    "leukemia_seeds = [\n",
    "    \"https://www.cancer.org/cancer/leukemia.html\",\n",
    "    \"https://www.mayoclinic.org/diseases-conditions/leukemia/symptoms-causes/syc-20374373\",\n",
    "    \"https://www.webmd.com/cancer/lymphoma/understanding-leukemia-basics\",\n",
    "    \"https://www.lls.org/leukemia\",\n",
    "    \"https://www.cancer.gov/types/leukemia\",\n",
    "    \"https://www.cancer.net/cancer-types/leukemia-acute-lymphoblastic-all/statistics\",\n",
    "    \"https://www.medicalnewstoday.com/articles/142595\",\n",
    "    \"https://www.healthline.com/health/leukemia\",\n",
    "    ]\n",
    "\n",
    "crohns_disease_seeds = [\n",
    "    \"https://www.mayoclinic.org/diseases-conditions/crohns-disease/symptoms-causes/syc-20353304\",\n",
    "    \"https://www.webmd.com/ibd-crohns-disease/default.htm\",\n",
    "    \"https://www.crohnscolitisfoundation.org/what-is-crohns-disease\",\n",
    "    \"https://www.cdc.gov/ibd/data-statistics.htm\",\n",
    "    \"https://www.niddk.nih.gov/health-information/digestive-diseases/crohns-disease\",\n",
    "    \"https://www.medicalnewstoday.com/articles/151620\",\n",
    "    \"https://www.healthline.com/health/crohns-disease\",\n",
    "    \"https://www.gastro.org/practice-guidance/gi-patient-center/topic/crohns-disease\",\n",
    "    ]\n",
    "\n",
    "flu_websites = wcd.web_crawler(flu_seeds, \"flu\")\n",
    "covid_websites = wcd.web_crawler(covid_seeds, \"covid\")\n",
    "diabetes_websites = wcd.web_crawler(diabetes_seeds, \"diabetes\")\n",
    "addisons_websites = wcd.web_crawler(addisons_seeds, \"addisons\")\n",
    "depression_websites = wcd.web_crawler(depression_seeds, \"depression\")\n",
    "cardiac_arrest_websites = wcd.web_crawler(cardiac_arrest_seeds, \"cardiac\")\n",
    "asthma_websites = wcd.web_crawler(asthma_seeds, \"asthma\")\n",
    "glaucoma_websites = wcd.web_crawler(glaucoma_seeds, \"glaucoma\")\n",
    "leukemia_websites = wcd.web_crawler(leukemia_seeds, \"leukemia\")\n",
    "crohns_disease_websites = wcd.web_crawler(crohns_disease_seeds, \"crohns-disease\")\n",
    "\n",
    "wcd.update_websites_json(\"Flu\", flu_websites, websites, \"updated_websites.json\")\n",
    "wcd.update_websites_json(\"Covid\", covid_websites, websites, \"updated_websites.json\")\n",
    "wcd.update_websites_json(\"Diabetes\", diabetes_websites, websites, \"updated_websites.json\")\n",
    "wcd.update_websites_json(\"Addisons Disease\", addisons_websites, websites, \"updated_websites.json\")\n",
    "wcd.update_websites_json(\"Depression\", depression_websites, websites, \"updated_websites.json\")\n",
    "wcd.update_websites_json(\"Cardiac Arrest\", cardiac_arrest_websites, websites, \"updated_websites.json\")\n",
    "wcd.update_websites_json(\"Asthma\", asthma_websites, websites, \"updated_websites.json\")\n",
    "wcd.update_websites_json(\"Glaucoma\", glaucoma_websites, websites, \"updated_websites.json\")\n",
    "wcd.update_websites_json(\"Leukemia\", leukemia_websites, websites, \"updated_websites.json\")\n",
    "wcd.update_websites_json(\"Crohns Disease\", crohns_disease_websites, websites, \"updated_websites.json\")"
   ]
  },
  {
   "cell_type": "markdown",
   "metadata": {},
   "source": [
    "Get and annotate data for larger model collection"
   ]
  },
  {
   "cell_type": "code",
   "execution_count": 5,
   "metadata": {},
   "outputs": [
    {
     "name": "stderr",
     "output_type": "stream",
     "text": [
      "Some characters could not be decoded, and were replaced with REPLACEMENT CHARACTER.\n",
      "Some characters could not be decoded, and were replaced with REPLACEMENT CHARACTER.\n"
     ]
    }
   ],
   "source": [
    "# Run larger model with updated document data\n",
    "websites = wcd.load_json(\"updated_websites.json\")\n",
    "wcd.scrape_websites(websites, \"updated_doc_data.json\")\n",
    "doc_data = wcd.load_json(\"updated_doc_data.json\")\n",
    "wcd.annotate_data(queries_labeled, doc_data, \"updated_annotated_data.json\")\n",
    "relevance_data = wcd.load_json(\"updated_annotated_data.json\")"
   ]
  },
  {
   "cell_type": "markdown",
   "metadata": {},
   "source": [
    "## Run Larger Model With k = 5, k = 10, k= 20"
   ]
  },
  {
   "cell_type": "markdown",
   "metadata": {},
   "source": [
    "### With Updated Relevance Scores"
   ]
  },
  {
   "cell_type": "code",
   "execution_count": 54,
   "metadata": {},
   "outputs": [
    {
     "name": "stdout",
     "output_type": "stream",
     "text": [
      "NDCG: 0.7375861965459806\n",
      "Flu: [('Flu2', 5), ('Flu3', 5), ('Add3', 5), ('Cov1', 4), ('Car2', 3), ('Flu1', 2), ('Flu4', 2), ('Cov5', 2), ('Dep1', 2), ('Car1', 2), ('Car4', 2), ('Gla3', 2), ('Leu1', 2), ('Cro1', 2), ('Cro2', 2), ('Cro3', 2), ('Cov2', 1), ('Cov4', 1), ('Dia1', 1), ('Dia4', 1), ('Add1', 1), ('Add2', 1), ('Dep2', 1), ('Dep3', 1), ('Dep5', 1), ('Ast1', 1), ('Ast4', 1), ('Ast6', 1), ('Leu2', 1), ('Cro4', 1), ('Flu5', 0), ('Cov3', 0), ('Dia2', 0), ('Dia3', 0), ('Dia5', 0), ('Add4', 0), ('Dep4', 0), ('Car3', 0), ('Car5', 0), ('Ast2', 0), ('Ast3', 0), ('Ast5', 0), ('Gla1', 0), ('Gla2', 0), ('Gla4', 0), ('Gla5', 0), ('Leu3', 0), ('Leu4', 0), ('Leu5', 0), ('Cro5', 0)]\n",
      "\n",
      "NDCG: 1.0\n",
      "Covid: [('Cov1', 5), ('Cov5', 4), ('Flu1', 2), ('Flu2', 2), ('Cov3', 2), ('Cov4', 2), ('Add2', 2), ('Dep2', 2), ('Dep3', 2), ('Car3', 2), ('Ast1', 2), ('Gla1', 2), ('Flu3', 1), ('Cov2', 1), ('Dia4', 1), ('Dia5', 1), ('Add1', 1), ('Add3', 1), ('Dep1', 1), ('Dep4', 1), ('Car1', 1), ('Car2', 1), ('Car4', 1), ('Ast3', 1), ('Ast4', 1), ('Ast6', 1), ('Gla2', 1), ('Gla3', 1), ('Gla4', 1), ('Cro1', 1), ('Cro2', 1), ('Cro3', 1), ('Flu4', 0), ('Flu5', 0), ('Dia1', 0), ('Dia2', 0), ('Dia3', 0), ('Add4', 0), ('Dep5', 0), ('Car5', 0), ('Ast2', 0), ('Ast5', 0), ('Gla5', 0), ('Leu1', 0), ('Leu2', 0), ('Leu3', 0), ('Leu4', 0), ('Leu5', 0), ('Cro4', 0), ('Cro5', 0)]\n",
      "\n",
      "NDCG: 0.43067655807339306\n",
      "Diabetes: [('Dia5', 5), ('Cov5', 2), ('Add1', 2), ('Add3', 2), ('Dep1', 2), ('Dep3', 2), ('Dep4', 2), ('Gla1', 2), ('Cro1', 2), ('Cro2', 2), ('Cro4', 2), ('Flu4', 1), ('Cov1', 1), ('Cov3', 1), ('Cov4', 1), ('Dia1', 1), ('Dia3', 1), ('Dia4', 1), ('Add2', 1), ('Dep2', 1), ('Dep5', 1), ('Car1', 1), ('Car2', 1), ('Car3', 1), ('Ast4', 1), ('Gla2', 1), ('Gla3', 1), ('Leu1', 1), ('Leu2', 1), ('Leu3', 1), ('Cro3', 1), ('Flu1', 0), ('Flu2', 0), ('Flu3', 0), ('Flu5', 0), ('Cov2', 0), ('Dia2', 0), ('Add4', 0), ('Car4', 0), ('Car5', 0), ('Ast1', 0), ('Ast2', 0), ('Ast3', 0), ('Ast5', 0), ('Ast6', 0), ('Gla4', 0), ('Gla5', 0), ('Leu4', 0), ('Leu5', 0), ('Cro5', 0)]\n",
      "\n",
      "NDCG: 0.639909328045346\n",
      "Addisons: [('Dia4', 5), ('Add2', 4), ('Dep2', 4), ('Dep3', 4), ('Car3', 4), ('Leu3', 4), ('Add1', 3), ('Add3', 3), ('Dep1', 3), ('Dep4', 3), ('Car1', 3), ('Ast3', 3), ('Ast4', 3), ('Gla2', 3), ('Leu2', 3), ('Cro2', 3), ('Flu2', 2), ('Dia5', 2), ('Car2', 2), ('Gla1', 2), ('Gla4', 2), ('Cro3', 2), ('Cro4', 2), ('Flu4', 1), ('Cov1', 1), ('Cov4', 1), ('Cov5', 1), ('Dep5', 1), ('Ast6', 1), ('Gla3', 1), ('Leu1', 1), ('Cro1', 1), ('Flu1', 0), ('Flu3', 0), ('Flu5', 0), ('Cov2', 0), ('Cov3', 0), ('Dia1', 0), ('Dia2', 0), ('Dia3', 0), ('Add4', 0), ('Car4', 0), ('Car5', 0), ('Ast1', 0), ('Ast2', 0), ('Ast5', 0), ('Gla5', 0), ('Leu4', 0), ('Leu5', 0), ('Cro5', 0)]\n",
      "\n",
      "NDCG: 0.9674679834891693\n",
      "Depression: [('Dep3', 5), ('Dep2', 4), ('Dep4', 3), ('Cro2', 3), ('Dia1', 2), ('Dep1', 2), ('Flu1', 1), ('Flu2', 1), ('Flu4', 1), ('Cov1', 1), ('Cov4', 1), ('Dia3', 1), ('Add1', 1), ('Add2', 1), ('Add3', 1), ('Dep5', 1), ('Ast6', 1), ('Gla2', 1), ('Gla4', 1), ('Leu1', 1), ('Leu2', 1), ('Leu3', 1), ('Cro1', 1), ('Cro3', 1), ('Cro4', 1), ('Flu3', 0), ('Flu5', 0), ('Cov2', 0), ('Cov3', 0), ('Cov5', 0), ('Dia2', 0), ('Dia4', 0), ('Dia5', 0), ('Add4', 0), ('Car1', 0), ('Car2', 0), ('Car3', 0), ('Car4', 0), ('Car5', 0), ('Ast1', 0), ('Ast2', 0), ('Ast3', 0), ('Ast4', 0), ('Ast5', 0), ('Gla1', 0), ('Gla3', 0), ('Gla5', 0), ('Leu4', 0), ('Leu5', 0), ('Cro5', 0)]\n",
      "\n",
      "NDCG: 0.8213137146137828\n",
      "Cardiac Arrest: [('Car1', 5), ('Car2', 3), ('Car3', 3), ('Flu2', 2), ('Cov1', 2), ('Dia1', 2), ('Ast3', 2), ('Flu1', 1), ('Flu3', 1), ('Cov3', 1), ('Cov4', 1), ('Cov5', 1), ('Dia4', 1), ('Dia5', 1), ('Add1', 1), ('Add2', 1), ('Dep1', 1), ('Dep3', 1), ('Car4', 1), ('Ast1', 1), ('Ast4', 1), ('Ast6', 1), ('Gla2', 1), ('Gla4', 1), ('Leu2', 1), ('Cro1', 1), ('Cro2', 1), ('Cro3', 1), ('Cro4', 1), ('Flu4', 0), ('Flu5', 0), ('Cov2', 0), ('Dia2', 0), ('Dia3', 0), ('Add3', 0), ('Add4', 0), ('Dep2', 0), ('Dep4', 0), ('Dep5', 0), ('Car5', 0), ('Ast2', 0), ('Ast5', 0), ('Gla1', 0), ('Gla3', 0), ('Gla5', 0), ('Leu1', 0), ('Leu3', 0), ('Leu4', 0), ('Leu5', 0), ('Cro5', 0)]\n",
      "\n",
      "NDCG: 1.0\n",
      "Asthma: [('Ast1', 5), ('Cov3', 4), ('Ast6', 4), ('Flu1', 3), ('Flu2', 3), ('Flu3', 3), ('Flu4', 3), ('Cov2', 3), ('Cov4', 3), ('Cov1', 1), ('Cov5', 1), ('Leu3', 1), ('Cro1', 1), ('Flu5', 0), ('Dia1', 0), ('Dia2', 0), ('Dia3', 0), ('Dia4', 0), ('Dia5', 0), ('Add1', 0), ('Add2', 0), ('Add3', 0), ('Add4', 0), ('Dep1', 0), ('Dep2', 0), ('Dep3', 0), ('Dep4', 0), ('Dep5', 0), ('Car1', 0), ('Car2', 0), ('Car3', 0), ('Car4', 0), ('Car5', 0), ('Ast2', 0), ('Ast3', 0), ('Ast4', 0), ('Ast5', 0), ('Gla1', 0), ('Gla2', 0), ('Gla3', 0), ('Gla4', 0), ('Gla5', 0), ('Leu1', 0), ('Leu2', 0), ('Leu4', 0), ('Leu5', 0), ('Cro2', 0), ('Cro3', 0), ('Cro4', 0), ('Cro5', 0)]\n",
      "\n",
      "NDCG: 0\n",
      "Glaucoma: [('Gla1', 5), ('Gla4', 5), ('Gla2', 3), ('Ast4', 1), ('Gla3', 1), ('Leu1', 1), ('Leu2', 1), ('Flu1', 0), ('Flu2', 0), ('Flu3', 0), ('Flu4', 0), ('Flu5', 0), ('Cov1', 0), ('Cov2', 0), ('Cov3', 0), ('Cov4', 0), ('Cov5', 0), ('Dia1', 0), ('Dia2', 0), ('Dia3', 0), ('Dia4', 0), ('Dia5', 0), ('Add1', 0), ('Add2', 0), ('Add3', 0), ('Add4', 0), ('Dep1', 0), ('Dep2', 0), ('Dep3', 0), ('Dep4', 0), ('Dep5', 0), ('Car1', 0), ('Car2', 0), ('Car3', 0), ('Car4', 0), ('Car5', 0), ('Ast1', 0), ('Ast2', 0), ('Ast3', 0), ('Ast5', 0), ('Ast6', 0), ('Gla5', 0), ('Leu3', 0), ('Leu4', 0), ('Leu5', 0), ('Cro1', 0), ('Cro2', 0), ('Cro3', 0), ('Cro4', 0), ('Cro5', 0)]\n",
      "\n",
      "NDCG: 0\n",
      "Leukemia: [('Leu1', 5), ('Leu2', 4), ('Gla4', 2), ('Dia1', 1), ('Ast6', 1), ('Gla1', 1), ('Gla3', 1), ('Leu3', 1), ('Cro2', 1), ('Cro3', 1), ('Cro4', 1), ('Flu1', 0), ('Flu2', 0), ('Flu3', 0), ('Flu4', 0), ('Flu5', 0), ('Cov1', 0), ('Cov2', 0), ('Cov3', 0), ('Cov4', 0), ('Cov5', 0), ('Dia2', 0), ('Dia3', 0), ('Dia4', 0), ('Dia5', 0), ('Add1', 0), ('Add2', 0), ('Add3', 0), ('Add4', 0), ('Dep1', 0), ('Dep2', 0), ('Dep3', 0), ('Dep4', 0), ('Dep5', 0), ('Car1', 0), ('Car2', 0), ('Car3', 0), ('Car4', 0), ('Car5', 0), ('Ast1', 0), ('Ast2', 0), ('Ast3', 0), ('Ast4', 0), ('Ast5', 0), ('Gla2', 0), ('Gla5', 0), ('Leu4', 0), ('Leu5', 0), ('Cro1', 0), ('Cro5', 0)]\n",
      "\n",
      "NDCG: 1.0\n",
      "Crohns Disease: [('Cro3', 5), ('Cro4', 5), ('Cro1', 3), ('Cro2', 3), ('Cov5', 2), ('Flu1', 1), ('Flu2', 1), ('Flu3', 1), ('Flu4', 1), ('Cov2', 1), ('Cov3', 1), ('Cov4', 1), ('Dia3', 1), ('Dia5', 1), ('Add1', 1), ('Add2', 1), ('Add3', 1), ('Dep1', 1), ('Dep2', 1), ('Dep3', 1), ('Dep4', 1), ('Dep5', 1), ('Ast1', 1), ('Ast6', 1), ('Gla1', 1), ('Gla2', 1), ('Gla3', 1), ('Gla4', 1), ('Leu1', 1), ('Leu2', 1), ('Flu5', 0), ('Cov1', 0), ('Dia1', 0), ('Dia2', 0), ('Dia4', 0), ('Add4', 0), ('Car1', 0), ('Car2', 0), ('Car3', 0), ('Car4', 0), ('Car5', 0), ('Ast2', 0), ('Ast3', 0), ('Ast4', 0), ('Ast5', 0), ('Gla5', 0), ('Leu3', 0), ('Leu4', 0), ('Leu5', 0), ('Cro5', 0)]\n",
      "\n"
     ]
    }
   ],
   "source": [
    "model = BM25_updated_rel(doc_data)\n",
    "k_value = 5\n",
    "\n",
    "for (query, label) in queries_labeled:\n",
    "    docs = model.top_docs(query, k_value, metric=\"zero_to_five\", to_sort=False)\n",
    "    \n",
    "    sorted_top_docs = sorted(docs, key=lambda x: x[1], reverse = True)\n",
    "\n",
    "    doc_list = [(doc_id, score) for doc_id, score in sorted_top_docs]\n",
    "\n",
    "    ndcg = model.ndcg(docs[:k_value])\n",
    "    print(f\"NDCG: {ndcg}\")\n",
    "    print(f\"{label}: {doc_list}\\n\")"
   ]
  },
  {
   "cell_type": "code",
   "execution_count": 55,
   "metadata": {},
   "outputs": [
    {
     "name": "stdout",
     "output_type": "stream",
     "text": [
      "NDCG: 0.7423491246772616\n",
      "Flu: [('Flu2', 5), ('Flu3', 5), ('Add3', 5), ('Cov1', 4), ('Car2', 3), ('Flu1', 2), ('Flu4', 2), ('Cov5', 2), ('Dep1', 2), ('Car1', 2), ('Car4', 2), ('Gla3', 2), ('Leu1', 2), ('Cro1', 2), ('Cro2', 2), ('Cro3', 2), ('Cov2', 1), ('Cov4', 1), ('Dia1', 1), ('Dia4', 1), ('Add1', 1), ('Add2', 1), ('Dep2', 1), ('Dep3', 1), ('Dep5', 1), ('Ast1', 1), ('Ast4', 1), ('Ast6', 1), ('Leu2', 1), ('Cro4', 1), ('Flu5', 0), ('Cov3', 0), ('Dia2', 0), ('Dia3', 0), ('Dia5', 0), ('Add4', 0), ('Dep4', 0), ('Car3', 0), ('Car5', 0), ('Ast2', 0), ('Ast3', 0), ('Ast5', 0), ('Gla1', 0), ('Gla2', 0), ('Gla4', 0), ('Gla5', 0), ('Leu3', 0), ('Leu4', 0), ('Leu5', 0), ('Cro5', 0)]\n",
      "\n",
      "NDCG: 0.49755115985642684\n",
      "Covid: [('Cov1', 5), ('Cov5', 4), ('Flu1', 2), ('Flu2', 2), ('Cov3', 2), ('Cov4', 2), ('Add2', 2), ('Dep2', 2), ('Dep3', 2), ('Car3', 2), ('Ast1', 2), ('Gla1', 2), ('Flu3', 1), ('Cov2', 1), ('Dia4', 1), ('Dia5', 1), ('Add1', 1), ('Add3', 1), ('Dep1', 1), ('Dep4', 1), ('Car1', 1), ('Car2', 1), ('Car4', 1), ('Ast3', 1), ('Ast4', 1), ('Ast6', 1), ('Gla2', 1), ('Gla3', 1), ('Gla4', 1), ('Cro1', 1), ('Cro2', 1), ('Cro3', 1), ('Flu4', 0), ('Flu5', 0), ('Dia1', 0), ('Dia2', 0), ('Dia3', 0), ('Add4', 0), ('Dep5', 0), ('Car5', 0), ('Ast2', 0), ('Ast5', 0), ('Gla5', 0), ('Leu1', 0), ('Leu2', 0), ('Leu3', 0), ('Leu4', 0), ('Leu5', 0), ('Cro4', 0), ('Cro5', 0)]\n",
      "\n",
      "NDCG: 0.45884446896248654\n",
      "Diabetes: [('Dia5', 5), ('Cov5', 2), ('Add1', 2), ('Add3', 2), ('Dep1', 2), ('Dep3', 2), ('Dep4', 2), ('Gla1', 2), ('Cro1', 2), ('Cro2', 2), ('Cro4', 2), ('Flu4', 1), ('Cov1', 1), ('Cov3', 1), ('Cov4', 1), ('Dia1', 1), ('Dia3', 1), ('Dia4', 1), ('Add2', 1), ('Dep2', 1), ('Dep5', 1), ('Car1', 1), ('Car2', 1), ('Car3', 1), ('Ast4', 1), ('Gla2', 1), ('Gla3', 1), ('Leu1', 1), ('Leu2', 1), ('Leu3', 1), ('Cro3', 1), ('Flu1', 0), ('Flu2', 0), ('Flu3', 0), ('Flu5', 0), ('Cov2', 0), ('Dia2', 0), ('Add4', 0), ('Car4', 0), ('Car5', 0), ('Ast1', 0), ('Ast2', 0), ('Ast3', 0), ('Ast5', 0), ('Ast6', 0), ('Gla4', 0), ('Gla5', 0), ('Leu4', 0), ('Leu5', 0), ('Cro5', 0)]\n",
      "\n",
      "NDCG: 0.6607648460513331\n",
      "Addisons: [('Dia4', 5), ('Add2', 4), ('Dep2', 4), ('Dep3', 4), ('Car3', 4), ('Leu3', 4), ('Add1', 3), ('Add3', 3), ('Dep1', 3), ('Dep4', 3), ('Car1', 3), ('Ast3', 3), ('Ast4', 3), ('Gla2', 3), ('Leu2', 3), ('Cro2', 3), ('Flu2', 2), ('Dia5', 2), ('Car2', 2), ('Gla1', 2), ('Gla4', 2), ('Cro3', 2), ('Cro4', 2), ('Flu4', 1), ('Cov1', 1), ('Cov4', 1), ('Cov5', 1), ('Dep5', 1), ('Ast6', 1), ('Gla3', 1), ('Leu1', 1), ('Cro1', 1), ('Flu1', 0), ('Flu3', 0), ('Flu5', 0), ('Cov2', 0), ('Cov3', 0), ('Dia1', 0), ('Dia2', 0), ('Dia3', 0), ('Add4', 0), ('Car4', 0), ('Car5', 0), ('Ast1', 0), ('Ast2', 0), ('Ast5', 0), ('Gla5', 0), ('Leu4', 0), ('Leu5', 0), ('Cro5', 0)]\n",
      "\n",
      "NDCG: 0.9221235176732561\n",
      "Depression: [('Dep3', 5), ('Dep2', 4), ('Dep4', 3), ('Cro2', 3), ('Dia1', 2), ('Dep1', 2), ('Flu1', 1), ('Flu2', 1), ('Flu4', 1), ('Cov1', 1), ('Cov4', 1), ('Dia3', 1), ('Add1', 1), ('Add2', 1), ('Add3', 1), ('Dep5', 1), ('Ast6', 1), ('Gla2', 1), ('Gla4', 1), ('Leu1', 1), ('Leu2', 1), ('Leu3', 1), ('Cro1', 1), ('Cro3', 1), ('Cro4', 1), ('Flu3', 0), ('Flu5', 0), ('Cov2', 0), ('Cov3', 0), ('Cov5', 0), ('Dia2', 0), ('Dia4', 0), ('Dia5', 0), ('Add4', 0), ('Car1', 0), ('Car2', 0), ('Car3', 0), ('Car4', 0), ('Car5', 0), ('Ast1', 0), ('Ast2', 0), ('Ast3', 0), ('Ast4', 0), ('Ast5', 0), ('Gla1', 0), ('Gla3', 0), ('Gla5', 0), ('Leu4', 0), ('Leu5', 0), ('Cro5', 0)]\n",
      "\n",
      "NDCG: 0.7778376930428694\n",
      "Cardiac Arrest: [('Car1', 5), ('Car2', 3), ('Car3', 3), ('Flu2', 2), ('Cov1', 2), ('Dia1', 2), ('Ast3', 2), ('Flu1', 1), ('Flu3', 1), ('Cov3', 1), ('Cov4', 1), ('Cov5', 1), ('Dia4', 1), ('Dia5', 1), ('Add1', 1), ('Add2', 1), ('Dep1', 1), ('Dep3', 1), ('Car4', 1), ('Ast1', 1), ('Ast4', 1), ('Ast6', 1), ('Gla2', 1), ('Gla4', 1), ('Leu2', 1), ('Cro1', 1), ('Cro2', 1), ('Cro3', 1), ('Cro4', 1), ('Flu4', 0), ('Flu5', 0), ('Cov2', 0), ('Dia2', 0), ('Dia3', 0), ('Add3', 0), ('Add4', 0), ('Dep2', 0), ('Dep4', 0), ('Dep5', 0), ('Car5', 0), ('Ast2', 0), ('Ast5', 0), ('Gla1', 0), ('Gla3', 0), ('Gla5', 0), ('Leu1', 0), ('Leu3', 0), ('Leu4', 0), ('Leu5', 0), ('Cro5', 0)]\n",
      "\n",
      "NDCG: 0.8141726363971062\n",
      "Asthma: [('Ast1', 5), ('Cov3', 4), ('Ast6', 4), ('Flu1', 3), ('Flu2', 3), ('Flu3', 3), ('Flu4', 3), ('Cov2', 3), ('Cov4', 3), ('Cov1', 1), ('Cov5', 1), ('Leu3', 1), ('Cro1', 1), ('Flu5', 0), ('Dia1', 0), ('Dia2', 0), ('Dia3', 0), ('Dia4', 0), ('Dia5', 0), ('Add1', 0), ('Add2', 0), ('Add3', 0), ('Add4', 0), ('Dep1', 0), ('Dep2', 0), ('Dep3', 0), ('Dep4', 0), ('Dep5', 0), ('Car1', 0), ('Car2', 0), ('Car3', 0), ('Car4', 0), ('Car5', 0), ('Ast2', 0), ('Ast3', 0), ('Ast4', 0), ('Ast5', 0), ('Gla1', 0), ('Gla2', 0), ('Gla3', 0), ('Gla4', 0), ('Gla5', 0), ('Leu1', 0), ('Leu2', 0), ('Leu4', 0), ('Leu5', 0), ('Cro2', 0), ('Cro3', 0), ('Cro4', 0), ('Cro5', 0)]\n",
      "\n",
      "NDCG: 0\n",
      "Glaucoma: [('Gla1', 5), ('Gla4', 5), ('Gla2', 3), ('Ast4', 1), ('Gla3', 1), ('Leu1', 1), ('Leu2', 1), ('Flu1', 0), ('Flu2', 0), ('Flu3', 0), ('Flu4', 0), ('Flu5', 0), ('Cov1', 0), ('Cov2', 0), ('Cov3', 0), ('Cov4', 0), ('Cov5', 0), ('Dia1', 0), ('Dia2', 0), ('Dia3', 0), ('Dia4', 0), ('Dia5', 0), ('Add1', 0), ('Add2', 0), ('Add3', 0), ('Add4', 0), ('Dep1', 0), ('Dep2', 0), ('Dep3', 0), ('Dep4', 0), ('Dep5', 0), ('Car1', 0), ('Car2', 0), ('Car3', 0), ('Car4', 0), ('Car5', 0), ('Ast1', 0), ('Ast2', 0), ('Ast3', 0), ('Ast5', 0), ('Ast6', 0), ('Gla5', 0), ('Leu3', 0), ('Leu4', 0), ('Leu5', 0), ('Cro1', 0), ('Cro2', 0), ('Cro3', 0), ('Cro4', 0), ('Cro5', 0)]\n",
      "\n",
      "NDCG: 0\n",
      "Leukemia: [('Leu1', 5), ('Leu2', 4), ('Gla4', 2), ('Dia1', 1), ('Ast6', 1), ('Gla1', 1), ('Gla3', 1), ('Leu3', 1), ('Cro2', 1), ('Cro3', 1), ('Cro4', 1), ('Flu1', 0), ('Flu2', 0), ('Flu3', 0), ('Flu4', 0), ('Flu5', 0), ('Cov1', 0), ('Cov2', 0), ('Cov3', 0), ('Cov4', 0), ('Cov5', 0), ('Dia2', 0), ('Dia3', 0), ('Dia4', 0), ('Dia5', 0), ('Add1', 0), ('Add2', 0), ('Add3', 0), ('Add4', 0), ('Dep1', 0), ('Dep2', 0), ('Dep3', 0), ('Dep4', 0), ('Dep5', 0), ('Car1', 0), ('Car2', 0), ('Car3', 0), ('Car4', 0), ('Car5', 0), ('Ast1', 0), ('Ast2', 0), ('Ast3', 0), ('Ast4', 0), ('Ast5', 0), ('Gla2', 0), ('Gla5', 0), ('Leu4', 0), ('Leu5', 0), ('Cro1', 0), ('Cro5', 0)]\n",
      "\n",
      "NDCG: 0.7354757863317459\n",
      "Crohns Disease: [('Cro3', 5), ('Cro4', 5), ('Cro1', 3), ('Cro2', 3), ('Cov5', 2), ('Flu1', 1), ('Flu2', 1), ('Flu3', 1), ('Flu4', 1), ('Cov2', 1), ('Cov3', 1), ('Cov4', 1), ('Dia3', 1), ('Dia5', 1), ('Add1', 1), ('Add2', 1), ('Add3', 1), ('Dep1', 1), ('Dep2', 1), ('Dep3', 1), ('Dep4', 1), ('Dep5', 1), ('Ast1', 1), ('Ast6', 1), ('Gla1', 1), ('Gla2', 1), ('Gla3', 1), ('Gla4', 1), ('Leu1', 1), ('Leu2', 1), ('Flu5', 0), ('Cov1', 0), ('Dia1', 0), ('Dia2', 0), ('Dia4', 0), ('Add4', 0), ('Car1', 0), ('Car2', 0), ('Car3', 0), ('Car4', 0), ('Car5', 0), ('Ast2', 0), ('Ast3', 0), ('Ast4', 0), ('Ast5', 0), ('Gla5', 0), ('Leu3', 0), ('Leu4', 0), ('Leu5', 0), ('Cro5', 0)]\n",
      "\n"
     ]
    }
   ],
   "source": [
    "model = BM25_updated_rel(doc_data)\n",
    "k_value = 10\n",
    "\n",
    "for (query, label) in queries_labeled:\n",
    "    docs = model.top_docs(query, k_value, metric=\"zero_to_five\", to_sort=False)\n",
    "    \n",
    "    sorted_top_docs = sorted(docs, key=lambda x: x[1], reverse = True)\n",
    "\n",
    "    doc_list = [(doc_id, score) for doc_id, score in sorted_top_docs]\n",
    "\n",
    "    ndcg = model.ndcg(docs[:k_value])\n",
    "    print(f\"NDCG: {ndcg}\")\n",
    "    print(f\"{label}: {doc_list}\\n\")"
   ]
  },
  {
   "cell_type": "code",
   "execution_count": 56,
   "metadata": {},
   "outputs": [
    {
     "name": "stdout",
     "output_type": "stream",
     "text": [
      "NDCG: 0.7044525551454779\n",
      "Flu: [('Flu2', 5), ('Flu3', 5), ('Add3', 5), ('Cov1', 4), ('Car2', 3), ('Flu1', 2), ('Flu4', 2), ('Cov5', 2), ('Dep1', 2), ('Car1', 2), ('Car4', 2), ('Gla3', 2), ('Leu1', 2), ('Cro1', 2), ('Cro2', 2), ('Cro3', 2), ('Cov2', 1), ('Cov4', 1), ('Dia1', 1), ('Dia4', 1), ('Add1', 1), ('Add2', 1), ('Dep2', 1), ('Dep3', 1), ('Dep5', 1), ('Ast1', 1), ('Ast4', 1), ('Ast6', 1), ('Leu2', 1), ('Cro4', 1), ('Flu5', 0), ('Cov3', 0), ('Dia2', 0), ('Dia3', 0), ('Dia5', 0), ('Add4', 0), ('Dep4', 0), ('Car3', 0), ('Car5', 0), ('Ast2', 0), ('Ast3', 0), ('Ast5', 0), ('Gla1', 0), ('Gla2', 0), ('Gla4', 0), ('Gla5', 0), ('Leu3', 0), ('Leu4', 0), ('Leu5', 0), ('Cro5', 0)]\n",
      "\n",
      "NDCG: 0.5135760561472501\n",
      "Covid: [('Cov1', 5), ('Cov5', 4), ('Flu1', 2), ('Flu2', 2), ('Cov3', 2), ('Cov4', 2), ('Add2', 2), ('Dep2', 2), ('Dep3', 2), ('Car3', 2), ('Ast1', 2), ('Gla1', 2), ('Flu3', 1), ('Cov2', 1), ('Dia4', 1), ('Dia5', 1), ('Add1', 1), ('Add3', 1), ('Dep1', 1), ('Dep4', 1), ('Car1', 1), ('Car2', 1), ('Car4', 1), ('Ast3', 1), ('Ast4', 1), ('Ast6', 1), ('Gla2', 1), ('Gla3', 1), ('Gla4', 1), ('Cro1', 1), ('Cro2', 1), ('Cro3', 1), ('Flu4', 0), ('Flu5', 0), ('Dia1', 0), ('Dia2', 0), ('Dia3', 0), ('Add4', 0), ('Dep5', 0), ('Car5', 0), ('Ast2', 0), ('Ast5', 0), ('Gla5', 0), ('Leu1', 0), ('Leu2', 0), ('Leu3', 0), ('Leu4', 0), ('Leu5', 0), ('Cro4', 0), ('Cro5', 0)]\n",
      "\n",
      "NDCG: 0.3358050973806212\n",
      "Diabetes: [('Dia5', 5), ('Cov5', 2), ('Add1', 2), ('Add3', 2), ('Dep1', 2), ('Dep3', 2), ('Dep4', 2), ('Gla1', 2), ('Cro1', 2), ('Cro2', 2), ('Cro4', 2), ('Flu4', 1), ('Cov1', 1), ('Cov3', 1), ('Cov4', 1), ('Dia1', 1), ('Dia3', 1), ('Dia4', 1), ('Add2', 1), ('Dep2', 1), ('Dep5', 1), ('Car1', 1), ('Car2', 1), ('Car3', 1), ('Ast4', 1), ('Gla2', 1), ('Gla3', 1), ('Leu1', 1), ('Leu2', 1), ('Leu3', 1), ('Cro3', 1), ('Flu1', 0), ('Flu2', 0), ('Flu3', 0), ('Flu5', 0), ('Cov2', 0), ('Dia2', 0), ('Add4', 0), ('Car4', 0), ('Car5', 0), ('Ast1', 0), ('Ast2', 0), ('Ast3', 0), ('Ast5', 0), ('Ast6', 0), ('Gla4', 0), ('Gla5', 0), ('Leu4', 0), ('Leu5', 0), ('Cro5', 0)]\n",
      "\n",
      "NDCG: 0.3873412970056764\n",
      "Addisons: [('Dia4', 5), ('Add2', 4), ('Dep2', 4), ('Dep3', 4), ('Car3', 4), ('Leu3', 4), ('Add1', 3), ('Add3', 3), ('Dep1', 3), ('Dep4', 3), ('Car1', 3), ('Ast3', 3), ('Ast4', 3), ('Gla2', 3), ('Leu2', 3), ('Cro2', 3), ('Flu2', 2), ('Dia5', 2), ('Car2', 2), ('Gla1', 2), ('Gla4', 2), ('Cro3', 2), ('Cro4', 2), ('Flu4', 1), ('Cov1', 1), ('Cov4', 1), ('Cov5', 1), ('Dep5', 1), ('Ast6', 1), ('Gla3', 1), ('Leu1', 1), ('Cro1', 1), ('Flu1', 0), ('Flu3', 0), ('Flu5', 0), ('Cov2', 0), ('Cov3', 0), ('Dia1', 0), ('Dia2', 0), ('Dia3', 0), ('Add4', 0), ('Car4', 0), ('Car5', 0), ('Ast1', 0), ('Ast2', 0), ('Ast5', 0), ('Gla5', 0), ('Leu4', 0), ('Leu5', 0), ('Cro5', 0)]\n",
      "\n",
      "NDCG: 0.6458400390294022\n",
      "Depression: [('Dep3', 5), ('Dep2', 4), ('Dep4', 3), ('Cro2', 3), ('Dia1', 2), ('Dep1', 2), ('Flu1', 1), ('Flu2', 1), ('Flu4', 1), ('Cov1', 1), ('Cov4', 1), ('Dia3', 1), ('Add1', 1), ('Add2', 1), ('Add3', 1), ('Dep5', 1), ('Ast6', 1), ('Gla2', 1), ('Gla4', 1), ('Leu1', 1), ('Leu2', 1), ('Leu3', 1), ('Cro1', 1), ('Cro3', 1), ('Cro4', 1), ('Flu3', 0), ('Flu5', 0), ('Cov2', 0), ('Cov3', 0), ('Cov5', 0), ('Dia2', 0), ('Dia4', 0), ('Dia5', 0), ('Add4', 0), ('Car1', 0), ('Car2', 0), ('Car3', 0), ('Car4', 0), ('Car5', 0), ('Ast1', 0), ('Ast2', 0), ('Ast3', 0), ('Ast4', 0), ('Ast5', 0), ('Gla1', 0), ('Gla3', 0), ('Gla5', 0), ('Leu4', 0), ('Leu5', 0), ('Cro5', 0)]\n",
      "\n",
      "NDCG: 0.7717269532332894\n",
      "Cardiac Arrest: [('Car1', 5), ('Car2', 3), ('Car3', 3), ('Flu2', 2), ('Cov1', 2), ('Dia1', 2), ('Ast3', 2), ('Flu1', 1), ('Flu3', 1), ('Cov3', 1), ('Cov4', 1), ('Cov5', 1), ('Dia4', 1), ('Dia5', 1), ('Add1', 1), ('Add2', 1), ('Dep1', 1), ('Dep3', 1), ('Car4', 1), ('Ast1', 1), ('Ast4', 1), ('Ast6', 1), ('Gla2', 1), ('Gla4', 1), ('Leu2', 1), ('Cro1', 1), ('Cro2', 1), ('Cro3', 1), ('Cro4', 1), ('Flu4', 0), ('Flu5', 0), ('Cov2', 0), ('Dia2', 0), ('Dia3', 0), ('Add3', 0), ('Add4', 0), ('Dep2', 0), ('Dep4', 0), ('Dep5', 0), ('Car5', 0), ('Ast2', 0), ('Ast5', 0), ('Gla1', 0), ('Gla3', 0), ('Gla5', 0), ('Leu1', 0), ('Leu3', 0), ('Leu4', 0), ('Leu5', 0), ('Cro5', 0)]\n",
      "\n",
      "NDCG: 0.8141726363971062\n",
      "Asthma: [('Ast1', 5), ('Cov3', 4), ('Ast6', 4), ('Flu1', 3), ('Flu2', 3), ('Flu3', 3), ('Flu4', 3), ('Cov2', 3), ('Cov4', 3), ('Cov1', 1), ('Cov5', 1), ('Leu3', 1), ('Cro1', 1), ('Flu5', 0), ('Dia1', 0), ('Dia2', 0), ('Dia3', 0), ('Dia4', 0), ('Dia5', 0), ('Add1', 0), ('Add2', 0), ('Add3', 0), ('Add4', 0), ('Dep1', 0), ('Dep2', 0), ('Dep3', 0), ('Dep4', 0), ('Dep5', 0), ('Car1', 0), ('Car2', 0), ('Car3', 0), ('Car4', 0), ('Car5', 0), ('Ast2', 0), ('Ast3', 0), ('Ast4', 0), ('Ast5', 0), ('Gla1', 0), ('Gla2', 0), ('Gla3', 0), ('Gla4', 0), ('Gla5', 0), ('Leu1', 0), ('Leu2', 0), ('Leu4', 0), ('Leu5', 0), ('Cro2', 0), ('Cro3', 0), ('Cro4', 0), ('Cro5', 0)]\n",
      "\n",
      "NDCG: 0\n",
      "Glaucoma: [('Gla1', 5), ('Gla4', 5), ('Gla2', 3), ('Ast4', 1), ('Gla3', 1), ('Leu1', 1), ('Leu2', 1), ('Flu1', 0), ('Flu2', 0), ('Flu3', 0), ('Flu4', 0), ('Flu5', 0), ('Cov1', 0), ('Cov2', 0), ('Cov3', 0), ('Cov4', 0), ('Cov5', 0), ('Dia1', 0), ('Dia2', 0), ('Dia3', 0), ('Dia4', 0), ('Dia5', 0), ('Add1', 0), ('Add2', 0), ('Add3', 0), ('Add4', 0), ('Dep1', 0), ('Dep2', 0), ('Dep3', 0), ('Dep4', 0), ('Dep5', 0), ('Car1', 0), ('Car2', 0), ('Car3', 0), ('Car4', 0), ('Car5', 0), ('Ast1', 0), ('Ast2', 0), ('Ast3', 0), ('Ast5', 0), ('Ast6', 0), ('Gla5', 0), ('Leu3', 0), ('Leu4', 0), ('Leu5', 0), ('Cro1', 0), ('Cro2', 0), ('Cro3', 0), ('Cro4', 0), ('Cro5', 0)]\n",
      "\n",
      "NDCG: 0.27894294565112987\n",
      "Leukemia: [('Leu1', 5), ('Leu2', 4), ('Gla4', 2), ('Dia1', 1), ('Ast6', 1), ('Gla1', 1), ('Gla3', 1), ('Leu3', 1), ('Cro2', 1), ('Cro3', 1), ('Cro4', 1), ('Flu1', 0), ('Flu2', 0), ('Flu3', 0), ('Flu4', 0), ('Flu5', 0), ('Cov1', 0), ('Cov2', 0), ('Cov3', 0), ('Cov4', 0), ('Cov5', 0), ('Dia2', 0), ('Dia3', 0), ('Dia4', 0), ('Dia5', 0), ('Add1', 0), ('Add2', 0), ('Add3', 0), ('Add4', 0), ('Dep1', 0), ('Dep2', 0), ('Dep3', 0), ('Dep4', 0), ('Dep5', 0), ('Car1', 0), ('Car2', 0), ('Car3', 0), ('Car4', 0), ('Car5', 0), ('Ast1', 0), ('Ast2', 0), ('Ast3', 0), ('Ast4', 0), ('Ast5', 0), ('Gla2', 0), ('Gla5', 0), ('Leu4', 0), ('Leu5', 0), ('Cro1', 0), ('Cro5', 0)]\n",
      "\n",
      "NDCG: 0.7671204501084895\n",
      "Crohns Disease: [('Cro3', 5), ('Cro4', 5), ('Cro1', 3), ('Cro2', 3), ('Cov5', 2), ('Flu1', 1), ('Flu2', 1), ('Flu3', 1), ('Flu4', 1), ('Cov2', 1), ('Cov3', 1), ('Cov4', 1), ('Dia3', 1), ('Dia5', 1), ('Add1', 1), ('Add2', 1), ('Add3', 1), ('Dep1', 1), ('Dep2', 1), ('Dep3', 1), ('Dep4', 1), ('Dep5', 1), ('Ast1', 1), ('Ast6', 1), ('Gla1', 1), ('Gla2', 1), ('Gla3', 1), ('Gla4', 1), ('Leu1', 1), ('Leu2', 1), ('Flu5', 0), ('Cov1', 0), ('Dia1', 0), ('Dia2', 0), ('Dia4', 0), ('Add4', 0), ('Car1', 0), ('Car2', 0), ('Car3', 0), ('Car4', 0), ('Car5', 0), ('Ast2', 0), ('Ast3', 0), ('Ast4', 0), ('Ast5', 0), ('Gla5', 0), ('Leu3', 0), ('Leu4', 0), ('Leu5', 0), ('Cro5', 0)]\n",
      "\n"
     ]
    }
   ],
   "source": [
    "model = BM25_updated_rel(doc_data)\n",
    "k_value = 20\n",
    "\n",
    "for (query, label) in queries_labeled:\n",
    "    docs = model.top_docs(query, k_value, metric=\"zero_to_five\", to_sort=False)\n",
    "    \n",
    "    sorted_top_docs = sorted(docs, key=lambda x: x[1], reverse = True)\n",
    "\n",
    "    doc_list = [(doc_id, score) for doc_id, score in sorted_top_docs]\n",
    "\n",
    "    ndcg = model.ndcg(docs[:k_value])\n",
    "    print(f\"NDCG: {ndcg}\")\n",
    "    print(f\"{label}: {doc_list}\\n\")"
   ]
  },
  {
   "cell_type": "markdown",
   "metadata": {},
   "source": [
    "### With Query Expansion"
   ]
  },
  {
   "cell_type": "code",
   "execution_count": 45,
   "metadata": {},
   "outputs": [],
   "source": [
    "updated_queries_labeled = [\n",
    "    (\"i suddenly got fever and my body aches\", \"Flu\"),\n",
    "    (\"i am having difficulty breathing and lost the sense of smell\", \"Covid\"),\n",
    "    (\"i am experiencing an increased amount of thirst and have had unexpected weight loss\", \"Diabetes\"),\n",
    "    (\"i feel extreme fatigue but I have a normal sleeping routine\", \"Addisons\"),\n",
    "    (\"i persistently feel sadness and have low energy\", \"Depression\"),\n",
    "    (\"i am having a lot of chest pain and am experiencing heart palpitations\", \"Cardiac Arrest\"),\n",
    "    (\"i wheeze when I exhale and feel that it is worsened by a respiratory virus\", \"Asthma\"),\n",
    "    (\"i am experiencing blurred vision, see blind spots, and halos around lights\", \"Glaucoma\"),\n",
    "    (\"i have swollen lymph nodes, tiny red spots on my skin, and I bruise easily\", \"Leukemia\"),\n",
    "    (\"i feel the need to pass stools even though my bowls are empty, and when do pass stool, it is bloody\", \"Crohns Disease\")\n",
    "    ]"
   ]
  },
  {
   "cell_type": "markdown",
   "metadata": {},
   "source": [
    "#### With ngrams = 2"
   ]
  },
  {
   "cell_type": "code",
   "execution_count": 46,
   "metadata": {},
   "outputs": [
    {
     "name": "stdout",
     "output_type": "stream",
     "text": [
      "NDCG: 0.5337519330784549\n",
      "Flu: [('Flu3', 5), ('Cov5', 3), ('Flu2', 2), ('Cov1', 2), ('Flu4', 1), ('Flu1', 0), ('Flu5', 0), ('Cov2', 0), ('Cov3', 0), ('Cov4', 0), ('Dia1', 0), ('Dia2', 0), ('Dia3', 0), ('Dia4', 0), ('Dia5', 0), ('Add1', 0), ('Add2', 0), ('Add3', 0), ('Add4', 0), ('Dep1', 0), ('Dep2', 0), ('Dep3', 0), ('Dep4', 0), ('Dep5', 0), ('Car1', 0), ('Car2', 0), ('Car3', 0), ('Car4', 0), ('Car5', 0), ('Ast1', 0), ('Ast2', 0), ('Ast3', 0), ('Ast4', 0), ('Ast5', 0), ('Ast6', 0), ('Gla1', 0), ('Gla2', 0), ('Gla3', 0), ('Gla4', 0), ('Gla5', 0), ('Leu1', 0), ('Leu2', 0), ('Leu3', 0), ('Leu4', 0), ('Leu5', 0), ('Cro1', 0), ('Cro2', 0), ('Cro3', 0), ('Cro4', 0), ('Cro5', 0)]\n",
      "\n",
      "NDCG: 1.0\n",
      "Covid: [('Cov5', 5), ('Dia4', 3), ('Flu1', 2), ('Flu2', 2), ('Cov1', 2), ('Cov4', 2), ('Gla4', 2), ('Cov3', 1), ('Add1', 1), ('Dep4', 1), ('Dep5', 1), ('Flu3', 0), ('Flu4', 0), ('Flu5', 0), ('Cov2', 0), ('Dia1', 0), ('Dia2', 0), ('Dia3', 0), ('Dia5', 0), ('Add2', 0), ('Add3', 0), ('Add4', 0), ('Dep1', 0), ('Dep2', 0), ('Dep3', 0), ('Car1', 0), ('Car2', 0), ('Car3', 0), ('Car4', 0), ('Car5', 0), ('Ast1', 0), ('Ast2', 0), ('Ast3', 0), ('Ast4', 0), ('Ast5', 0), ('Ast6', 0), ('Gla1', 0), ('Gla2', 0), ('Gla3', 0), ('Gla5', 0), ('Leu1', 0), ('Leu2', 0), ('Leu3', 0), ('Leu4', 0), ('Leu5', 0), ('Cro1', 0), ('Cro2', 0), ('Cro3', 0), ('Cro4', 0), ('Cro5', 0)]\n",
      "\n",
      "NDCG: 0.7309292742059024\n",
      "Diabetes: [('Dia5', 5), ('Add2', 5), ('Gla4', 5), ('Cro4', 5), ('Flu3', 3), ('Add1', 3), ('Add3', 3), ('Leu1', 3), ('Flu1', 2), ('Cov1', 2), ('Cov3', 2), ('Dia1', 2), ('Dep4', 2), ('Cro1', 2), ('Cro2', 2), ('Cro3', 2), ('Cov4', 1), ('Dep1', 1), ('Dep2', 1), ('Dep5', 1), ('Car2', 1), ('Gla2', 1), ('Flu2', 0), ('Flu4', 0), ('Flu5', 0), ('Cov2', 0), ('Cov5', 0), ('Dia2', 0), ('Dia3', 0), ('Dia4', 0), ('Add4', 0), ('Dep3', 0), ('Car1', 0), ('Car3', 0), ('Car4', 0), ('Car5', 0), ('Ast1', 0), ('Ast2', 0), ('Ast3', 0), ('Ast4', 0), ('Ast5', 0), ('Ast6', 0), ('Gla1', 0), ('Gla3', 0), ('Gla5', 0), ('Leu2', 0), ('Leu3', 0), ('Leu4', 0), ('Leu5', 0), ('Cro5', 0)]\n",
      "\n",
      "NDCG: 1.0\n",
      "Addisons: [('Dia4', 5), ('Add1', 4), ('Dep2', 4), ('Dep1', 3), ('Flu1', 1), ('Flu2', 1), ('Flu3', 1), ('Flu4', 1), ('Cov3', 1), ('Cov5', 1), ('Dia1', 1), ('Dia5', 1), ('Add2', 1), ('Add3', 1), ('Dep3', 1), ('Car1', 1), ('Car2', 1), ('Car3', 1), ('Car4', 1), ('Ast1', 1), ('Ast6', 1), ('Gla2', 1), ('Gla3', 1), ('Gla4', 1), ('Leu2', 1), ('Cro1', 1), ('Cro4', 1), ('Flu5', 0), ('Cov1', 0), ('Cov2', 0), ('Cov4', 0), ('Dia2', 0), ('Dia3', 0), ('Add4', 0), ('Dep4', 0), ('Dep5', 0), ('Car5', 0), ('Ast2', 0), ('Ast3', 0), ('Ast4', 0), ('Ast5', 0), ('Gla1', 0), ('Gla5', 0), ('Leu1', 0), ('Leu3', 0), ('Leu4', 0), ('Leu5', 0), ('Cro2', 0), ('Cro3', 0), ('Cro5', 0)]\n",
      "\n",
      "NDCG: 0.531730627995306\n",
      "Depression: [('Dep3', 5), ('Add1', 3), ('Cro2', 3), ('Flu3', 2), ('Add2', 2), ('Dep1', 2), ('Dep4', 2), ('Flu4', 1), ('Dia5', 1), ('Dep2', 1), ('Gla2', 1), ('Gla4', 1), ('Flu1', 0), ('Flu2', 0), ('Flu5', 0), ('Cov1', 0), ('Cov2', 0), ('Cov3', 0), ('Cov4', 0), ('Cov5', 0), ('Dia1', 0), ('Dia2', 0), ('Dia3', 0), ('Dia4', 0), ('Add3', 0), ('Add4', 0), ('Dep5', 0), ('Car1', 0), ('Car2', 0), ('Car3', 0), ('Car4', 0), ('Car5', 0), ('Ast1', 0), ('Ast2', 0), ('Ast3', 0), ('Ast4', 0), ('Ast5', 0), ('Ast6', 0), ('Gla1', 0), ('Gla3', 0), ('Gla5', 0), ('Leu1', 0), ('Leu2', 0), ('Leu3', 0), ('Leu4', 0), ('Leu5', 0), ('Cro1', 0), ('Cro3', 0), ('Cro4', 0), ('Cro5', 0)]\n",
      "\n",
      "NDCG: 0.6309297535714575\n",
      "Cardiac Arrest: [('Dep2', 5), ('Cro1', 5), ('Car1', 4), ('Dia1', 3), ('Dep1', 3), ('Cov5', 2), ('Car3', 2), ('Gla4', 2), ('Cro3', 2), ('Flu2', 1), ('Cov3', 1), ('Cov4', 1), ('Dep3', 1), ('Car2', 1), ('Car4', 1), ('Ast1', 1), ('Gla2', 1), ('Leu2', 1), ('Cro2', 1), ('Cro4', 1), ('Flu1', 0), ('Flu3', 0), ('Flu4', 0), ('Flu5', 0), ('Cov1', 0), ('Cov2', 0), ('Dia2', 0), ('Dia3', 0), ('Dia4', 0), ('Dia5', 0), ('Add1', 0), ('Add2', 0), ('Add3', 0), ('Add4', 0), ('Dep4', 0), ('Dep5', 0), ('Car5', 0), ('Ast2', 0), ('Ast3', 0), ('Ast4', 0), ('Ast5', 0), ('Ast6', 0), ('Gla1', 0), ('Gla3', 0), ('Gla5', 0), ('Leu1', 0), ('Leu3', 0), ('Leu4', 0), ('Leu5', 0), ('Cro5', 0)]\n",
      "\n",
      "NDCG: 0.515164545306109\n",
      "Asthma: [('Ast1', 5), ('Flu4', 4), ('Dep2', 4), ('Cov5', 3), ('Dep3', 3), ('Car3', 3), ('Leu2', 3), ('Flu3', 2), ('Cov4', 2), ('Dia1', 2), ('Add3', 2), ('Dep5', 2), ('Car2', 2), ('Gla4', 2), ('Cro4', 2), ('Flu1', 1), ('Cov2', 1), ('Dia4', 1), ('Add2', 1), ('Dep1', 1), ('Car1', 1), ('Ast6', 1), ('Gla1', 1), ('Gla2', 1), ('Cro2', 1), ('Flu2', 0), ('Flu5', 0), ('Cov1', 0), ('Cov3', 0), ('Dia2', 0), ('Dia3', 0), ('Dia5', 0), ('Add1', 0), ('Add4', 0), ('Dep4', 0), ('Car4', 0), ('Car5', 0), ('Ast2', 0), ('Ast3', 0), ('Ast4', 0), ('Ast5', 0), ('Gla3', 0), ('Gla5', 0), ('Leu1', 0), ('Leu3', 0), ('Leu4', 0), ('Leu5', 0), ('Cro1', 0), ('Cro3', 0), ('Cro5', 0)]\n",
      "\n",
      "NDCG: 0\n",
      "Glaucoma: [('Gla4', 5), ('Gla1', 3), ('Gla2', 3), ('Gla3', 2), ('Flu1', 0), ('Flu2', 0), ('Flu3', 0), ('Flu4', 0), ('Flu5', 0), ('Cov1', 0), ('Cov2', 0), ('Cov3', 0), ('Cov4', 0), ('Cov5', 0), ('Dia1', 0), ('Dia2', 0), ('Dia3', 0), ('Dia4', 0), ('Dia5', 0), ('Add1', 0), ('Add2', 0), ('Add3', 0), ('Add4', 0), ('Dep1', 0), ('Dep2', 0), ('Dep3', 0), ('Dep4', 0), ('Dep5', 0), ('Car1', 0), ('Car2', 0), ('Car3', 0), ('Car4', 0), ('Car5', 0), ('Ast1', 0), ('Ast2', 0), ('Ast3', 0), ('Ast4', 0), ('Ast5', 0), ('Ast6', 0), ('Gla5', 0), ('Leu1', 0), ('Leu2', 0), ('Leu3', 0), ('Leu4', 0), ('Leu5', 0), ('Cro1', 0), ('Cro2', 0), ('Cro3', 0), ('Cro4', 0), ('Cro5', 0)]\n",
      "\n",
      "NDCG: 0.5\n",
      "Leukemia: [('Leu1', 5), ('Leu2', 4), ('Flu3', 1), ('Dia3', 1), ('Add2', 1), ('Dep1', 1), ('Ast6', 1), ('Gla2', 1), ('Gla4', 1), ('Leu3', 1), ('Flu1', 0), ('Flu2', 0), ('Flu4', 0), ('Flu5', 0), ('Cov1', 0), ('Cov2', 0), ('Cov3', 0), ('Cov4', 0), ('Cov5', 0), ('Dia1', 0), ('Dia2', 0), ('Dia4', 0), ('Dia5', 0), ('Add1', 0), ('Add3', 0), ('Add4', 0), ('Dep2', 0), ('Dep3', 0), ('Dep4', 0), ('Dep5', 0), ('Car1', 0), ('Car2', 0), ('Car3', 0), ('Car4', 0), ('Car5', 0), ('Ast1', 0), ('Ast2', 0), ('Ast3', 0), ('Ast4', 0), ('Ast5', 0), ('Gla1', 0), ('Gla3', 0), ('Gla5', 0), ('Leu4', 0), ('Leu5', 0), ('Cro1', 0), ('Cro2', 0), ('Cro3', 0), ('Cro4', 0), ('Cro5', 0)]\n",
      "\n",
      "NDCG: 0.6010163832324855\n",
      "Crohns Disease: [('Ast1', 5), ('Cov3', 4), ('Add3', 4), ('Dep2', 4), ('Dep5', 4), ('Ast6', 4), ('Cro4', 4), ('Flu4', 3), ('Cov4', 3), ('Dia1', 3), ('Dia4', 3), ('Car3', 3), ('Gla4', 3), ('Cro2', 3), ('Cov2', 2), ('Dia5', 2), ('Leu2', 2), ('Flu1', 1), ('Flu2', 1), ('Flu3', 1), ('Cov5', 1), ('Add1', 1), ('Add2', 1), ('Dep1', 1), ('Car2', 1), ('Gla1', 1), ('Gla2', 1), ('Gla3', 1), ('Cro1', 1), ('Cro3', 1), ('Flu5', 0), ('Cov1', 0), ('Dia2', 0), ('Dia3', 0), ('Add4', 0), ('Dep3', 0), ('Dep4', 0), ('Car1', 0), ('Car4', 0), ('Car5', 0), ('Ast2', 0), ('Ast3', 0), ('Ast4', 0), ('Ast5', 0), ('Gla5', 0), ('Leu1', 0), ('Leu3', 0), ('Leu4', 0), ('Leu5', 0), ('Cro5', 0)]\n",
      "\n"
     ]
    }
   ],
   "source": [
    "model = BM25_updated_qe(doc_data, n=2)\n",
    "k_value = 5\n",
    "\n",
    "for (query, label) in updated_queries_labeled:\n",
    "    docs = model.top_docs(query, k_value, metric=\"zero_to_five\", to_sort=False)\n",
    "    \n",
    "    sorted_top_docs = sorted(docs, key=lambda x: x[1], reverse = True)\n",
    "\n",
    "    doc_list = [(doc_id, score) for doc_id, score in sorted_top_docs]\n",
    "\n",
    "    ndcg = model.ndcg(docs[:k_value])\n",
    "    print(f\"NDCG: {ndcg}\")\n",
    "    print(f\"{label}: {doc_list}\\n\")"
   ]
  },
  {
   "cell_type": "code",
   "execution_count": 48,
   "metadata": {},
   "outputs": [
    {
     "name": "stdout",
     "output_type": "stream",
     "text": [
      "NDCG: 0.5419181087275041\n",
      "Flu: [('Flu3', 5), ('Cov5', 3), ('Flu2', 2), ('Cov1', 2), ('Flu4', 1), ('Flu1', 0), ('Flu5', 0), ('Cov2', 0), ('Cov3', 0), ('Cov4', 0), ('Dia1', 0), ('Dia2', 0), ('Dia3', 0), ('Dia4', 0), ('Dia5', 0), ('Add1', 0), ('Add2', 0), ('Add3', 0), ('Add4', 0), ('Dep1', 0), ('Dep2', 0), ('Dep3', 0), ('Dep4', 0), ('Dep5', 0), ('Car1', 0), ('Car2', 0), ('Car3', 0), ('Car4', 0), ('Car5', 0), ('Ast1', 0), ('Ast2', 0), ('Ast3', 0), ('Ast4', 0), ('Ast5', 0), ('Ast6', 0), ('Gla1', 0), ('Gla2', 0), ('Gla3', 0), ('Gla4', 0), ('Gla5', 0), ('Leu1', 0), ('Leu2', 0), ('Leu3', 0), ('Leu4', 0), ('Leu5', 0), ('Cro1', 0), ('Cro2', 0), ('Cro3', 0), ('Cro4', 0), ('Cro5', 0)]\n",
      "\n",
      "NDCG: 0.4338787043516948\n",
      "Covid: [('Cov5', 5), ('Dia4', 3), ('Flu1', 2), ('Flu2', 2), ('Cov1', 2), ('Cov4', 2), ('Gla4', 2), ('Cov3', 1), ('Add1', 1), ('Dep4', 1), ('Dep5', 1), ('Flu3', 0), ('Flu4', 0), ('Flu5', 0), ('Cov2', 0), ('Dia1', 0), ('Dia2', 0), ('Dia3', 0), ('Dia5', 0), ('Add2', 0), ('Add3', 0), ('Add4', 0), ('Dep1', 0), ('Dep2', 0), ('Dep3', 0), ('Car1', 0), ('Car2', 0), ('Car3', 0), ('Car4', 0), ('Car5', 0), ('Ast1', 0), ('Ast2', 0), ('Ast3', 0), ('Ast4', 0), ('Ast5', 0), ('Ast6', 0), ('Gla1', 0), ('Gla2', 0), ('Gla3', 0), ('Gla5', 0), ('Leu1', 0), ('Leu2', 0), ('Leu3', 0), ('Leu4', 0), ('Leu5', 0), ('Cro1', 0), ('Cro2', 0), ('Cro3', 0), ('Cro4', 0), ('Cro5', 0)]\n",
      "\n",
      "NDCG: 0.7303086412256209\n",
      "Diabetes: [('Dia5', 5), ('Add2', 5), ('Gla4', 5), ('Cro4', 5), ('Flu3', 3), ('Add1', 3), ('Add3', 3), ('Leu1', 3), ('Flu1', 2), ('Cov1', 2), ('Cov3', 2), ('Dia1', 2), ('Dep4', 2), ('Cro1', 2), ('Cro2', 2), ('Cro3', 2), ('Cov4', 1), ('Dep1', 1), ('Dep2', 1), ('Dep5', 1), ('Car2', 1), ('Gla2', 1), ('Flu2', 0), ('Flu4', 0), ('Flu5', 0), ('Cov2', 0), ('Cov5', 0), ('Dia2', 0), ('Dia3', 0), ('Dia4', 0), ('Add4', 0), ('Dep3', 0), ('Car1', 0), ('Car3', 0), ('Car4', 0), ('Car5', 0), ('Ast1', 0), ('Ast2', 0), ('Ast3', 0), ('Ast4', 0), ('Ast5', 0), ('Ast6', 0), ('Gla1', 0), ('Gla3', 0), ('Gla5', 0), ('Leu2', 0), ('Leu3', 0), ('Leu4', 0), ('Leu5', 0), ('Cro5', 0)]\n",
      "\n",
      "NDCG: 0.958080399528401\n",
      "Addisons: [('Dia4', 5), ('Add1', 4), ('Dep2', 4), ('Dep1', 3), ('Flu1', 1), ('Flu2', 1), ('Flu3', 1), ('Flu4', 1), ('Cov3', 1), ('Cov5', 1), ('Dia1', 1), ('Dia5', 1), ('Add2', 1), ('Add3', 1), ('Dep3', 1), ('Car1', 1), ('Car2', 1), ('Car3', 1), ('Car4', 1), ('Ast1', 1), ('Ast6', 1), ('Gla2', 1), ('Gla3', 1), ('Gla4', 1), ('Leu2', 1), ('Cro1', 1), ('Cro4', 1), ('Flu5', 0), ('Cov1', 0), ('Cov2', 0), ('Cov4', 0), ('Dia2', 0), ('Dia3', 0), ('Add4', 0), ('Dep4', 0), ('Dep5', 0), ('Car5', 0), ('Ast2', 0), ('Ast3', 0), ('Ast4', 0), ('Ast5', 0), ('Gla1', 0), ('Gla5', 0), ('Leu1', 0), ('Leu3', 0), ('Leu4', 0), ('Leu5', 0), ('Cro2', 0), ('Cro3', 0), ('Cro5', 0)]\n",
      "\n",
      "NDCG: 0.531730627995306\n",
      "Depression: [('Dep3', 5), ('Add1', 3), ('Cro2', 3), ('Flu3', 2), ('Add2', 2), ('Dep1', 2), ('Dep4', 2), ('Flu4', 1), ('Dia5', 1), ('Dep2', 1), ('Gla2', 1), ('Gla4', 1), ('Flu1', 0), ('Flu2', 0), ('Flu5', 0), ('Cov1', 0), ('Cov2', 0), ('Cov3', 0), ('Cov4', 0), ('Cov5', 0), ('Dia1', 0), ('Dia2', 0), ('Dia3', 0), ('Dia4', 0), ('Add3', 0), ('Add4', 0), ('Dep5', 0), ('Car1', 0), ('Car2', 0), ('Car3', 0), ('Car4', 0), ('Car5', 0), ('Ast1', 0), ('Ast2', 0), ('Ast3', 0), ('Ast4', 0), ('Ast5', 0), ('Ast6', 0), ('Gla1', 0), ('Gla3', 0), ('Gla5', 0), ('Leu1', 0), ('Leu2', 0), ('Leu3', 0), ('Leu4', 0), ('Leu5', 0), ('Cro1', 0), ('Cro3', 0), ('Cro4', 0), ('Cro5', 0)]\n",
      "\n",
      "NDCG: 0.4635689624456717\n",
      "Cardiac Arrest: [('Dep2', 5), ('Cro1', 5), ('Car1', 4), ('Dia1', 3), ('Dep1', 3), ('Cov5', 2), ('Car3', 2), ('Gla4', 2), ('Cro3', 2), ('Flu2', 1), ('Cov3', 1), ('Cov4', 1), ('Dep3', 1), ('Car2', 1), ('Car4', 1), ('Ast1', 1), ('Gla2', 1), ('Leu2', 1), ('Cro2', 1), ('Cro4', 1), ('Flu1', 0), ('Flu3', 0), ('Flu4', 0), ('Flu5', 0), ('Cov1', 0), ('Cov2', 0), ('Dia2', 0), ('Dia3', 0), ('Dia4', 0), ('Dia5', 0), ('Add1', 0), ('Add2', 0), ('Add3', 0), ('Add4', 0), ('Dep4', 0), ('Dep5', 0), ('Car5', 0), ('Ast2', 0), ('Ast3', 0), ('Ast4', 0), ('Ast5', 0), ('Ast6', 0), ('Gla1', 0), ('Gla3', 0), ('Gla5', 0), ('Leu1', 0), ('Leu3', 0), ('Leu4', 0), ('Leu5', 0), ('Cro5', 0)]\n",
      "\n",
      "NDCG: 0.5324259123787345\n",
      "Asthma: [('Ast1', 5), ('Flu4', 4), ('Dep2', 4), ('Cov5', 3), ('Dep3', 3), ('Car3', 3), ('Leu2', 3), ('Flu3', 2), ('Cov4', 2), ('Dia1', 2), ('Add3', 2), ('Dep5', 2), ('Car2', 2), ('Gla4', 2), ('Cro4', 2), ('Flu1', 1), ('Cov2', 1), ('Dia4', 1), ('Add2', 1), ('Dep1', 1), ('Car1', 1), ('Ast6', 1), ('Gla1', 1), ('Gla2', 1), ('Cro2', 1), ('Flu2', 0), ('Flu5', 0), ('Cov1', 0), ('Cov3', 0), ('Dia2', 0), ('Dia3', 0), ('Dia5', 0), ('Add1', 0), ('Add4', 0), ('Dep4', 0), ('Car4', 0), ('Car5', 0), ('Ast2', 0), ('Ast3', 0), ('Ast4', 0), ('Ast5', 0), ('Gla3', 0), ('Gla5', 0), ('Leu1', 0), ('Leu3', 0), ('Leu4', 0), ('Leu5', 0), ('Cro1', 0), ('Cro3', 0), ('Cro5', 0)]\n",
      "\n",
      "NDCG: 0\n",
      "Glaucoma: [('Gla4', 5), ('Gla1', 3), ('Gla2', 3), ('Gla3', 2), ('Flu1', 0), ('Flu2', 0), ('Flu3', 0), ('Flu4', 0), ('Flu5', 0), ('Cov1', 0), ('Cov2', 0), ('Cov3', 0), ('Cov4', 0), ('Cov5', 0), ('Dia1', 0), ('Dia2', 0), ('Dia3', 0), ('Dia4', 0), ('Dia5', 0), ('Add1', 0), ('Add2', 0), ('Add3', 0), ('Add4', 0), ('Dep1', 0), ('Dep2', 0), ('Dep3', 0), ('Dep4', 0), ('Dep5', 0), ('Car1', 0), ('Car2', 0), ('Car3', 0), ('Car4', 0), ('Car5', 0), ('Ast1', 0), ('Ast2', 0), ('Ast3', 0), ('Ast4', 0), ('Ast5', 0), ('Ast6', 0), ('Gla5', 0), ('Leu1', 0), ('Leu2', 0), ('Leu3', 0), ('Leu4', 0), ('Leu5', 0), ('Cro1', 0), ('Cro2', 0), ('Cro3', 0), ('Cro4', 0), ('Cro5', 0)]\n",
      "\n",
      "NDCG: 0.5\n",
      "Leukemia: [('Leu1', 5), ('Leu2', 4), ('Flu3', 1), ('Dia3', 1), ('Add2', 1), ('Dep1', 1), ('Ast6', 1), ('Gla2', 1), ('Gla4', 1), ('Leu3', 1), ('Flu1', 0), ('Flu2', 0), ('Flu4', 0), ('Flu5', 0), ('Cov1', 0), ('Cov2', 0), ('Cov3', 0), ('Cov4', 0), ('Cov5', 0), ('Dia1', 0), ('Dia2', 0), ('Dia4', 0), ('Dia5', 0), ('Add1', 0), ('Add3', 0), ('Add4', 0), ('Dep2', 0), ('Dep3', 0), ('Dep4', 0), ('Dep5', 0), ('Car1', 0), ('Car2', 0), ('Car3', 0), ('Car4', 0), ('Car5', 0), ('Ast1', 0), ('Ast2', 0), ('Ast3', 0), ('Ast4', 0), ('Ast5', 0), ('Gla1', 0), ('Gla3', 0), ('Gla5', 0), ('Leu4', 0), ('Leu5', 0), ('Cro1', 0), ('Cro2', 0), ('Cro3', 0), ('Cro4', 0), ('Cro5', 0)]\n",
      "\n",
      "NDCG: 0.5185042265811876\n",
      "Crohns Disease: [('Ast1', 5), ('Cov3', 4), ('Add3', 4), ('Dep2', 4), ('Dep5', 4), ('Ast6', 4), ('Cro4', 4), ('Flu4', 3), ('Cov4', 3), ('Dia1', 3), ('Dia4', 3), ('Car3', 3), ('Gla4', 3), ('Cro2', 3), ('Cov2', 2), ('Dia5', 2), ('Leu2', 2), ('Flu1', 1), ('Flu2', 1), ('Flu3', 1), ('Cov5', 1), ('Add1', 1), ('Add2', 1), ('Dep1', 1), ('Car2', 1), ('Gla1', 1), ('Gla2', 1), ('Gla3', 1), ('Cro1', 1), ('Cro3', 1), ('Flu5', 0), ('Cov1', 0), ('Dia2', 0), ('Dia3', 0), ('Add4', 0), ('Dep3', 0), ('Dep4', 0), ('Car1', 0), ('Car4', 0), ('Car5', 0), ('Ast2', 0), ('Ast3', 0), ('Ast4', 0), ('Ast5', 0), ('Gla5', 0), ('Leu1', 0), ('Leu3', 0), ('Leu4', 0), ('Leu5', 0), ('Cro5', 0)]\n",
      "\n"
     ]
    }
   ],
   "source": [
    "model = BM25_updated_qe(doc_data, n=2)\n",
    "k_value = 10\n",
    "\n",
    "for (query, label) in updated_queries_labeled:\n",
    "    docs = model.top_docs(query, k_value, metric=\"zero_to_five\", to_sort=False)\n",
    "    \n",
    "    sorted_top_docs = sorted(docs, key=lambda x: x[1], reverse = True)\n",
    "\n",
    "    doc_list = [(doc_id, score) for doc_id, score in sorted_top_docs]\n",
    "\n",
    "    ndcg = model.ndcg(docs[:k_value])\n",
    "    print(f\"NDCG: {ndcg}\")\n",
    "    print(f\"{label}: {doc_list}\\n\")"
   ]
  },
  {
   "cell_type": "code",
   "execution_count": 50,
   "metadata": {},
   "outputs": [
    {
     "name": "stdout",
     "output_type": "stream",
     "text": [
      "NDCG: 0.5419181087275041\n",
      "Flu: [('Flu3', 5), ('Cov5', 3), ('Flu2', 2), ('Cov1', 2), ('Flu4', 1), ('Flu1', 0), ('Flu5', 0), ('Cov2', 0), ('Cov3', 0), ('Cov4', 0), ('Dia1', 0), ('Dia2', 0), ('Dia3', 0), ('Dia4', 0), ('Dia5', 0), ('Add1', 0), ('Add2', 0), ('Add3', 0), ('Add4', 0), ('Dep1', 0), ('Dep2', 0), ('Dep3', 0), ('Dep4', 0), ('Dep5', 0), ('Car1', 0), ('Car2', 0), ('Car3', 0), ('Car4', 0), ('Car5', 0), ('Ast1', 0), ('Ast2', 0), ('Ast3', 0), ('Ast4', 0), ('Ast5', 0), ('Ast6', 0), ('Gla1', 0), ('Gla2', 0), ('Gla3', 0), ('Gla4', 0), ('Gla5', 0), ('Leu1', 0), ('Leu2', 0), ('Leu3', 0), ('Leu4', 0), ('Leu5', 0), ('Cro1', 0), ('Cro2', 0), ('Cro3', 0), ('Cro4', 0), ('Cro5', 0)]\n",
      "\n",
      "NDCG: 0.4424159973669237\n",
      "Covid: [('Cov5', 5), ('Dia4', 3), ('Flu1', 2), ('Flu2', 2), ('Cov1', 2), ('Cov4', 2), ('Gla4', 2), ('Cov3', 1), ('Add1', 1), ('Dep4', 1), ('Dep5', 1), ('Flu3', 0), ('Flu4', 0), ('Flu5', 0), ('Cov2', 0), ('Dia1', 0), ('Dia2', 0), ('Dia3', 0), ('Dia5', 0), ('Add2', 0), ('Add3', 0), ('Add4', 0), ('Dep1', 0), ('Dep2', 0), ('Dep3', 0), ('Car1', 0), ('Car2', 0), ('Car3', 0), ('Car4', 0), ('Car5', 0), ('Ast1', 0), ('Ast2', 0), ('Ast3', 0), ('Ast4', 0), ('Ast5', 0), ('Ast6', 0), ('Gla1', 0), ('Gla2', 0), ('Gla3', 0), ('Gla5', 0), ('Leu1', 0), ('Leu2', 0), ('Leu3', 0), ('Leu4', 0), ('Leu5', 0), ('Cro1', 0), ('Cro2', 0), ('Cro3', 0), ('Cro4', 0), ('Cro5', 0)]\n",
      "\n",
      "NDCG: 0.44229330808741274\n",
      "Diabetes: [('Dia5', 5), ('Add2', 5), ('Gla4', 5), ('Cro4', 5), ('Flu3', 3), ('Add1', 3), ('Add3', 3), ('Leu1', 3), ('Flu1', 2), ('Cov1', 2), ('Cov3', 2), ('Dia1', 2), ('Dep4', 2), ('Cro1', 2), ('Cro2', 2), ('Cro3', 2), ('Cov4', 1), ('Dep1', 1), ('Dep2', 1), ('Dep5', 1), ('Car2', 1), ('Gla2', 1), ('Flu2', 0), ('Flu4', 0), ('Flu5', 0), ('Cov2', 0), ('Cov5', 0), ('Dia2', 0), ('Dia3', 0), ('Dia4', 0), ('Add4', 0), ('Dep3', 0), ('Car1', 0), ('Car3', 0), ('Car4', 0), ('Car5', 0), ('Ast1', 0), ('Ast2', 0), ('Ast3', 0), ('Ast4', 0), ('Ast5', 0), ('Ast6', 0), ('Gla1', 0), ('Gla3', 0), ('Gla5', 0), ('Leu2', 0), ('Leu3', 0), ('Leu4', 0), ('Leu5', 0), ('Cro5', 0)]\n",
      "\n",
      "NDCG: 0.3680660200625754\n",
      "Addisons: [('Dia4', 5), ('Add1', 4), ('Dep2', 4), ('Dep1', 3), ('Flu1', 1), ('Flu2', 1), ('Flu3', 1), ('Flu4', 1), ('Cov3', 1), ('Cov5', 1), ('Dia1', 1), ('Dia5', 1), ('Add2', 1), ('Add3', 1), ('Dep3', 1), ('Car1', 1), ('Car2', 1), ('Car3', 1), ('Car4', 1), ('Ast1', 1), ('Ast6', 1), ('Gla2', 1), ('Gla3', 1), ('Gla4', 1), ('Leu2', 1), ('Cro1', 1), ('Cro4', 1), ('Flu5', 0), ('Cov1', 0), ('Cov2', 0), ('Cov4', 0), ('Dia2', 0), ('Dia3', 0), ('Add4', 0), ('Dep4', 0), ('Dep5', 0), ('Car5', 0), ('Ast2', 0), ('Ast3', 0), ('Ast4', 0), ('Ast5', 0), ('Gla1', 0), ('Gla5', 0), ('Leu1', 0), ('Leu3', 0), ('Leu4', 0), ('Leu5', 0), ('Cro2', 0), ('Cro3', 0), ('Cro5', 0)]\n",
      "\n",
      "NDCG: 0.4261128169040071\n",
      "Depression: [('Dep3', 5), ('Add1', 3), ('Cro2', 3), ('Flu3', 2), ('Add2', 2), ('Dep1', 2), ('Dep4', 2), ('Flu4', 1), ('Dia5', 1), ('Dep2', 1), ('Gla2', 1), ('Gla4', 1), ('Flu1', 0), ('Flu2', 0), ('Flu5', 0), ('Cov1', 0), ('Cov2', 0), ('Cov3', 0), ('Cov4', 0), ('Cov5', 0), ('Dia1', 0), ('Dia2', 0), ('Dia3', 0), ('Dia4', 0), ('Add3', 0), ('Add4', 0), ('Dep5', 0), ('Car1', 0), ('Car2', 0), ('Car3', 0), ('Car4', 0), ('Car5', 0), ('Ast1', 0), ('Ast2', 0), ('Ast3', 0), ('Ast4', 0), ('Ast5', 0), ('Ast6', 0), ('Gla1', 0), ('Gla3', 0), ('Gla5', 0), ('Leu1', 0), ('Leu2', 0), ('Leu3', 0), ('Leu4', 0), ('Leu5', 0), ('Cro1', 0), ('Cro3', 0), ('Cro4', 0), ('Cro5', 0)]\n",
      "\n",
      "NDCG: 0.4017610435268424\n",
      "Cardiac Arrest: [('Dep2', 5), ('Cro1', 5), ('Car1', 4), ('Dia1', 3), ('Dep1', 3), ('Cov5', 2), ('Car3', 2), ('Gla4', 2), ('Cro3', 2), ('Flu2', 1), ('Cov3', 1), ('Cov4', 1), ('Dep3', 1), ('Car2', 1), ('Car4', 1), ('Ast1', 1), ('Gla2', 1), ('Leu2', 1), ('Cro2', 1), ('Cro4', 1), ('Flu1', 0), ('Flu3', 0), ('Flu4', 0), ('Flu5', 0), ('Cov1', 0), ('Cov2', 0), ('Dia2', 0), ('Dia3', 0), ('Dia4', 0), ('Dia5', 0), ('Add1', 0), ('Add2', 0), ('Add3', 0), ('Add4', 0), ('Dep4', 0), ('Dep5', 0), ('Car5', 0), ('Ast2', 0), ('Ast3', 0), ('Ast4', 0), ('Ast5', 0), ('Ast6', 0), ('Gla1', 0), ('Gla3', 0), ('Gla5', 0), ('Leu1', 0), ('Leu3', 0), ('Leu4', 0), ('Leu5', 0), ('Cro5', 0)]\n",
      "\n",
      "NDCG: 0.5581280154147756\n",
      "Asthma: [('Ast1', 5), ('Flu4', 4), ('Dep2', 4), ('Cov5', 3), ('Dep3', 3), ('Car3', 3), ('Leu2', 3), ('Flu3', 2), ('Cov4', 2), ('Dia1', 2), ('Add3', 2), ('Dep5', 2), ('Car2', 2), ('Gla4', 2), ('Cro4', 2), ('Flu1', 1), ('Cov2', 1), ('Dia4', 1), ('Add2', 1), ('Dep1', 1), ('Car1', 1), ('Ast6', 1), ('Gla1', 1), ('Gla2', 1), ('Cro2', 1), ('Flu2', 0), ('Flu5', 0), ('Cov1', 0), ('Cov3', 0), ('Dia2', 0), ('Dia3', 0), ('Dia5', 0), ('Add1', 0), ('Add4', 0), ('Dep4', 0), ('Car4', 0), ('Car5', 0), ('Ast2', 0), ('Ast3', 0), ('Ast4', 0), ('Ast5', 0), ('Gla3', 0), ('Gla5', 0), ('Leu1', 0), ('Leu3', 0), ('Leu4', 0), ('Leu5', 0), ('Cro1', 0), ('Cro3', 0), ('Cro5', 0)]\n",
      "\n",
      "NDCG: 0\n",
      "Glaucoma: [('Gla4', 5), ('Gla1', 3), ('Gla2', 3), ('Gla3', 2), ('Flu1', 0), ('Flu2', 0), ('Flu3', 0), ('Flu4', 0), ('Flu5', 0), ('Cov1', 0), ('Cov2', 0), ('Cov3', 0), ('Cov4', 0), ('Cov5', 0), ('Dia1', 0), ('Dia2', 0), ('Dia3', 0), ('Dia4', 0), ('Dia5', 0), ('Add1', 0), ('Add2', 0), ('Add3', 0), ('Add4', 0), ('Dep1', 0), ('Dep2', 0), ('Dep3', 0), ('Dep4', 0), ('Dep5', 0), ('Car1', 0), ('Car2', 0), ('Car3', 0), ('Car4', 0), ('Car5', 0), ('Ast1', 0), ('Ast2', 0), ('Ast3', 0), ('Ast4', 0), ('Ast5', 0), ('Ast6', 0), ('Gla5', 0), ('Leu1', 0), ('Leu2', 0), ('Leu3', 0), ('Leu4', 0), ('Leu5', 0), ('Cro1', 0), ('Cro2', 0), ('Cro3', 0), ('Cro4', 0), ('Cro5', 0)]\n",
      "\n",
      "NDCG: 0.4802190893698998\n",
      "Leukemia: [('Leu1', 5), ('Leu2', 4), ('Flu3', 1), ('Dia3', 1), ('Add2', 1), ('Dep1', 1), ('Ast6', 1), ('Gla2', 1), ('Gla4', 1), ('Leu3', 1), ('Flu1', 0), ('Flu2', 0), ('Flu4', 0), ('Flu5', 0), ('Cov1', 0), ('Cov2', 0), ('Cov3', 0), ('Cov4', 0), ('Cov5', 0), ('Dia1', 0), ('Dia2', 0), ('Dia4', 0), ('Dia5', 0), ('Add1', 0), ('Add3', 0), ('Add4', 0), ('Dep2', 0), ('Dep3', 0), ('Dep4', 0), ('Dep5', 0), ('Car1', 0), ('Car2', 0), ('Car3', 0), ('Car4', 0), ('Car5', 0), ('Ast1', 0), ('Ast2', 0), ('Ast3', 0), ('Ast4', 0), ('Ast5', 0), ('Gla1', 0), ('Gla3', 0), ('Gla5', 0), ('Leu4', 0), ('Leu5', 0), ('Cro1', 0), ('Cro2', 0), ('Cro3', 0), ('Cro4', 0), ('Cro5', 0)]\n",
      "\n",
      "NDCG: 0.5498146144260853\n",
      "Crohns Disease: [('Ast1', 5), ('Cov3', 4), ('Add3', 4), ('Dep2', 4), ('Dep5', 4), ('Ast6', 4), ('Cro4', 4), ('Flu4', 3), ('Cov4', 3), ('Dia1', 3), ('Dia4', 3), ('Car3', 3), ('Gla4', 3), ('Cro2', 3), ('Cov2', 2), ('Dia5', 2), ('Leu2', 2), ('Flu1', 1), ('Flu2', 1), ('Flu3', 1), ('Cov5', 1), ('Add1', 1), ('Add2', 1), ('Dep1', 1), ('Car2', 1), ('Gla1', 1), ('Gla2', 1), ('Gla3', 1), ('Cro1', 1), ('Cro3', 1), ('Flu5', 0), ('Cov1', 0), ('Dia2', 0), ('Dia3', 0), ('Add4', 0), ('Dep3', 0), ('Dep4', 0), ('Car1', 0), ('Car4', 0), ('Car5', 0), ('Ast2', 0), ('Ast3', 0), ('Ast4', 0), ('Ast5', 0), ('Gla5', 0), ('Leu1', 0), ('Leu3', 0), ('Leu4', 0), ('Leu5', 0), ('Cro5', 0)]\n",
      "\n"
     ]
    }
   ],
   "source": [
    "model = BM25_updated_qe(doc_data, n=2)\n",
    "k_value = 20\n",
    "\n",
    "for (query, label) in updated_queries_labeled:\n",
    "    docs = model.top_docs(query, k_value, metric=\"zero_to_five\", to_sort=False)\n",
    "    \n",
    "    sorted_top_docs = sorted(docs, key=lambda x: x[1], reverse = True)\n",
    "\n",
    "    doc_list = [(doc_id, score) for doc_id, score in sorted_top_docs]\n",
    "\n",
    "    ndcg = model.ndcg(docs[:k_value])\n",
    "    print(f\"NDCG: {ndcg}\")\n",
    "    print(f\"{label}: {doc_list}\\n\")"
   ]
  },
  {
   "cell_type": "markdown",
   "metadata": {},
   "source": [
    "#### With ngrams = 3"
   ]
  },
  {
   "cell_type": "code",
   "execution_count": 51,
   "metadata": {},
   "outputs": [
    {
     "name": "stdout",
     "output_type": "stream",
     "text": [
      "NDCG: 0\n",
      "Flu: [('Flu1', 0), ('Flu2', 0), ('Flu3', 0), ('Flu4', 0), ('Flu5', 0), ('Cov1', 0), ('Cov2', 0), ('Cov3', 0), ('Cov4', 0), ('Cov5', 0), ('Dia1', 0), ('Dia2', 0), ('Dia3', 0), ('Dia4', 0), ('Dia5', 0), ('Add1', 0), ('Add2', 0), ('Add3', 0), ('Add4', 0), ('Dep1', 0), ('Dep2', 0), ('Dep3', 0), ('Dep4', 0), ('Dep5', 0), ('Car1', 0), ('Car2', 0), ('Car3', 0), ('Car4', 0), ('Car5', 0), ('Ast1', 0), ('Ast2', 0), ('Ast3', 0), ('Ast4', 0), ('Ast5', 0), ('Ast6', 0), ('Gla1', 0), ('Gla2', 0), ('Gla3', 0), ('Gla4', 0), ('Gla5', 0), ('Leu1', 0), ('Leu2', 0), ('Leu3', 0), ('Leu4', 0), ('Leu5', 0), ('Cro1', 0), ('Cro2', 0), ('Cro3', 0), ('Cro4', 0), ('Cro5', 0)]\n",
      "\n",
      "NDCG: 0\n",
      "Covid: [('Cov5', 5), ('Cov4', 1), ('Flu1', 0), ('Flu2', 0), ('Flu3', 0), ('Flu4', 0), ('Flu5', 0), ('Cov1', 0), ('Cov2', 0), ('Cov3', 0), ('Dia1', 0), ('Dia2', 0), ('Dia3', 0), ('Dia4', 0), ('Dia5', 0), ('Add1', 0), ('Add2', 0), ('Add3', 0), ('Add4', 0), ('Dep1', 0), ('Dep2', 0), ('Dep3', 0), ('Dep4', 0), ('Dep5', 0), ('Car1', 0), ('Car2', 0), ('Car3', 0), ('Car4', 0), ('Car5', 0), ('Ast1', 0), ('Ast2', 0), ('Ast3', 0), ('Ast4', 0), ('Ast5', 0), ('Ast6', 0), ('Gla1', 0), ('Gla2', 0), ('Gla3', 0), ('Gla4', 0), ('Gla5', 0), ('Leu1', 0), ('Leu2', 0), ('Leu3', 0), ('Leu4', 0), ('Leu5', 0), ('Cro1', 0), ('Cro2', 0), ('Cro3', 0), ('Cro4', 0), ('Cro5', 0)]\n",
      "\n",
      "NDCG: 0\n",
      "Diabetes: [('Flu1', 0), ('Flu2', 0), ('Flu3', 0), ('Flu4', 0), ('Flu5', 0), ('Cov1', 0), ('Cov2', 0), ('Cov3', 0), ('Cov4', 0), ('Cov5', 0), ('Dia1', 0), ('Dia2', 0), ('Dia3', 0), ('Dia4', 0), ('Dia5', 0), ('Add1', 0), ('Add2', 0), ('Add3', 0), ('Add4', 0), ('Dep1', 0), ('Dep2', 0), ('Dep3', 0), ('Dep4', 0), ('Dep5', 0), ('Car1', 0), ('Car2', 0), ('Car3', 0), ('Car4', 0), ('Car5', 0), ('Ast1', 0), ('Ast2', 0), ('Ast3', 0), ('Ast4', 0), ('Ast5', 0), ('Ast6', 0), ('Gla1', 0), ('Gla2', 0), ('Gla3', 0), ('Gla4', 0), ('Gla5', 0), ('Leu1', 0), ('Leu2', 0), ('Leu3', 0), ('Leu4', 0), ('Leu5', 0), ('Cro1', 0), ('Cro2', 0), ('Cro3', 0), ('Cro4', 0), ('Cro5', 0)]\n",
      "\n",
      "NDCG: 0\n",
      "Addisons: [('Flu1', 0), ('Flu2', 0), ('Flu3', 0), ('Flu4', 0), ('Flu5', 0), ('Cov1', 0), ('Cov2', 0), ('Cov3', 0), ('Cov4', 0), ('Cov5', 0), ('Dia1', 0), ('Dia2', 0), ('Dia3', 0), ('Dia4', 0), ('Dia5', 0), ('Add1', 0), ('Add2', 0), ('Add3', 0), ('Add4', 0), ('Dep1', 0), ('Dep2', 0), ('Dep3', 0), ('Dep4', 0), ('Dep5', 0), ('Car1', 0), ('Car2', 0), ('Car3', 0), ('Car4', 0), ('Car5', 0), ('Ast1', 0), ('Ast2', 0), ('Ast3', 0), ('Ast4', 0), ('Ast5', 0), ('Ast6', 0), ('Gla1', 0), ('Gla2', 0), ('Gla3', 0), ('Gla4', 0), ('Gla5', 0), ('Leu1', 0), ('Leu2', 0), ('Leu3', 0), ('Leu4', 0), ('Leu5', 0), ('Cro1', 0), ('Cro2', 0), ('Cro3', 0), ('Cro4', 0), ('Cro5', 0)]\n",
      "\n",
      "NDCG: 0\n",
      "Depression: [('Flu1', 0), ('Flu2', 0), ('Flu3', 0), ('Flu4', 0), ('Flu5', 0), ('Cov1', 0), ('Cov2', 0), ('Cov3', 0), ('Cov4', 0), ('Cov5', 0), ('Dia1', 0), ('Dia2', 0), ('Dia3', 0), ('Dia4', 0), ('Dia5', 0), ('Add1', 0), ('Add2', 0), ('Add3', 0), ('Add4', 0), ('Dep1', 0), ('Dep2', 0), ('Dep3', 0), ('Dep4', 0), ('Dep5', 0), ('Car1', 0), ('Car2', 0), ('Car3', 0), ('Car4', 0), ('Car5', 0), ('Ast1', 0), ('Ast2', 0), ('Ast3', 0), ('Ast4', 0), ('Ast5', 0), ('Ast6', 0), ('Gla1', 0), ('Gla2', 0), ('Gla3', 0), ('Gla4', 0), ('Gla5', 0), ('Leu1', 0), ('Leu2', 0), ('Leu3', 0), ('Leu4', 0), ('Leu5', 0), ('Cro1', 0), ('Cro2', 0), ('Cro3', 0), ('Cro4', 0), ('Cro5', 0)]\n",
      "\n",
      "NDCG: 0\n",
      "Cardiac Arrest: [('Dep2', 5), ('Cro1', 5), ('Dia1', 3), ('Dep1', 3), ('Flu1', 0), ('Flu2', 0), ('Flu3', 0), ('Flu4', 0), ('Flu5', 0), ('Cov1', 0), ('Cov2', 0), ('Cov3', 0), ('Cov4', 0), ('Cov5', 0), ('Dia2', 0), ('Dia3', 0), ('Dia4', 0), ('Dia5', 0), ('Add1', 0), ('Add2', 0), ('Add3', 0), ('Add4', 0), ('Dep3', 0), ('Dep4', 0), ('Dep5', 0), ('Car1', 0), ('Car2', 0), ('Car3', 0), ('Car4', 0), ('Car5', 0), ('Ast1', 0), ('Ast2', 0), ('Ast3', 0), ('Ast4', 0), ('Ast5', 0), ('Ast6', 0), ('Gla1', 0), ('Gla2', 0), ('Gla3', 0), ('Gla4', 0), ('Gla5', 0), ('Leu1', 0), ('Leu2', 0), ('Leu3', 0), ('Leu4', 0), ('Leu5', 0), ('Cro2', 0), ('Cro3', 0), ('Cro4', 0), ('Cro5', 0)]\n",
      "\n",
      "NDCG: 0\n",
      "Asthma: [('Ast1', 5), ('Flu1', 0), ('Flu2', 0), ('Flu3', 0), ('Flu4', 0), ('Flu5', 0), ('Cov1', 0), ('Cov2', 0), ('Cov3', 0), ('Cov4', 0), ('Cov5', 0), ('Dia1', 0), ('Dia2', 0), ('Dia3', 0), ('Dia4', 0), ('Dia5', 0), ('Add1', 0), ('Add2', 0), ('Add3', 0), ('Add4', 0), ('Dep1', 0), ('Dep2', 0), ('Dep3', 0), ('Dep4', 0), ('Dep5', 0), ('Car1', 0), ('Car2', 0), ('Car3', 0), ('Car4', 0), ('Car5', 0), ('Ast2', 0), ('Ast3', 0), ('Ast4', 0), ('Ast5', 0), ('Ast6', 0), ('Gla1', 0), ('Gla2', 0), ('Gla3', 0), ('Gla4', 0), ('Gla5', 0), ('Leu1', 0), ('Leu2', 0), ('Leu3', 0), ('Leu4', 0), ('Leu5', 0), ('Cro1', 0), ('Cro2', 0), ('Cro3', 0), ('Cro4', 0), ('Cro5', 0)]\n",
      "\n",
      "NDCG: 0\n",
      "Glaucoma: [('Gla1', 5), ('Gla4', 4), ('Flu1', 0), ('Flu2', 0), ('Flu3', 0), ('Flu4', 0), ('Flu5', 0), ('Cov1', 0), ('Cov2', 0), ('Cov3', 0), ('Cov4', 0), ('Cov5', 0), ('Dia1', 0), ('Dia2', 0), ('Dia3', 0), ('Dia4', 0), ('Dia5', 0), ('Add1', 0), ('Add2', 0), ('Add3', 0), ('Add4', 0), ('Dep1', 0), ('Dep2', 0), ('Dep3', 0), ('Dep4', 0), ('Dep5', 0), ('Car1', 0), ('Car2', 0), ('Car3', 0), ('Car4', 0), ('Car5', 0), ('Ast1', 0), ('Ast2', 0), ('Ast3', 0), ('Ast4', 0), ('Ast5', 0), ('Ast6', 0), ('Gla2', 0), ('Gla3', 0), ('Gla5', 0), ('Leu1', 0), ('Leu2', 0), ('Leu3', 0), ('Leu4', 0), ('Leu5', 0), ('Cro1', 0), ('Cro2', 0), ('Cro3', 0), ('Cro4', 0), ('Cro5', 0)]\n",
      "\n",
      "NDCG: 0\n",
      "Leukemia: [('Leu1', 5), ('Leu2', 2), ('Flu1', 0), ('Flu2', 0), ('Flu3', 0), ('Flu4', 0), ('Flu5', 0), ('Cov1', 0), ('Cov2', 0), ('Cov3', 0), ('Cov4', 0), ('Cov5', 0), ('Dia1', 0), ('Dia2', 0), ('Dia3', 0), ('Dia4', 0), ('Dia5', 0), ('Add1', 0), ('Add2', 0), ('Add3', 0), ('Add4', 0), ('Dep1', 0), ('Dep2', 0), ('Dep3', 0), ('Dep4', 0), ('Dep5', 0), ('Car1', 0), ('Car2', 0), ('Car3', 0), ('Car4', 0), ('Car5', 0), ('Ast1', 0), ('Ast2', 0), ('Ast3', 0), ('Ast4', 0), ('Ast5', 0), ('Ast6', 0), ('Gla1', 0), ('Gla2', 0), ('Gla3', 0), ('Gla4', 0), ('Gla5', 0), ('Leu3', 0), ('Leu4', 0), ('Leu5', 0), ('Cro1', 0), ('Cro2', 0), ('Cro3', 0), ('Cro4', 0), ('Cro5', 0)]\n",
      "\n",
      "NDCG: 0\n",
      "Crohns Disease: [('Ast1', 5), ('Flu1', 0), ('Flu2', 0), ('Flu3', 0), ('Flu4', 0), ('Flu5', 0), ('Cov1', 0), ('Cov2', 0), ('Cov3', 0), ('Cov4', 0), ('Cov5', 0), ('Dia1', 0), ('Dia2', 0), ('Dia3', 0), ('Dia4', 0), ('Dia5', 0), ('Add1', 0), ('Add2', 0), ('Add3', 0), ('Add4', 0), ('Dep1', 0), ('Dep2', 0), ('Dep3', 0), ('Dep4', 0), ('Dep5', 0), ('Car1', 0), ('Car2', 0), ('Car3', 0), ('Car4', 0), ('Car5', 0), ('Ast2', 0), ('Ast3', 0), ('Ast4', 0), ('Ast5', 0), ('Ast6', 0), ('Gla1', 0), ('Gla2', 0), ('Gla3', 0), ('Gla4', 0), ('Gla5', 0), ('Leu1', 0), ('Leu2', 0), ('Leu3', 0), ('Leu4', 0), ('Leu5', 0), ('Cro1', 0), ('Cro2', 0), ('Cro3', 0), ('Cro4', 0), ('Cro5', 0)]\n",
      "\n"
     ]
    }
   ],
   "source": [
    "model = BM25_updated_qe(doc_data, n=3)\n",
    "k_value = 5\n",
    "\n",
    "for (query, label) in updated_queries_labeled:\n",
    "    docs = model.top_docs(query, k_value, metric=\"zero_to_five\", to_sort=False)\n",
    "    \n",
    "    sorted_top_docs = sorted(docs, key=lambda x: x[1], reverse = True)\n",
    "\n",
    "    doc_list = [(doc_id, score) for doc_id, score in sorted_top_docs]\n",
    "\n",
    "    ndcg = model.ndcg(docs[:k_value])\n",
    "    print(f\"NDCG: {ndcg}\")\n",
    "    print(f\"{label}: {doc_list}\\n\")"
   ]
  },
  {
   "cell_type": "code",
   "execution_count": 52,
   "metadata": {},
   "outputs": [
    {
     "name": "stdout",
     "output_type": "stream",
     "text": [
      "NDCG: 0\n",
      "Flu: [('Flu1', 0), ('Flu2', 0), ('Flu3', 0), ('Flu4', 0), ('Flu5', 0), ('Cov1', 0), ('Cov2', 0), ('Cov3', 0), ('Cov4', 0), ('Cov5', 0), ('Dia1', 0), ('Dia2', 0), ('Dia3', 0), ('Dia4', 0), ('Dia5', 0), ('Add1', 0), ('Add2', 0), ('Add3', 0), ('Add4', 0), ('Dep1', 0), ('Dep2', 0), ('Dep3', 0), ('Dep4', 0), ('Dep5', 0), ('Car1', 0), ('Car2', 0), ('Car3', 0), ('Car4', 0), ('Car5', 0), ('Ast1', 0), ('Ast2', 0), ('Ast3', 0), ('Ast4', 0), ('Ast5', 0), ('Ast6', 0), ('Gla1', 0), ('Gla2', 0), ('Gla3', 0), ('Gla4', 0), ('Gla5', 0), ('Leu1', 0), ('Leu2', 0), ('Leu3', 0), ('Leu4', 0), ('Leu5', 0), ('Cro1', 0), ('Cro2', 0), ('Cro3', 0), ('Cro4', 0), ('Cro5', 0)]\n",
      "\n",
      "NDCG: 0.2928159141598652\n",
      "Covid: [('Cov5', 5), ('Cov4', 1), ('Flu1', 0), ('Flu2', 0), ('Flu3', 0), ('Flu4', 0), ('Flu5', 0), ('Cov1', 0), ('Cov2', 0), ('Cov3', 0), ('Dia1', 0), ('Dia2', 0), ('Dia3', 0), ('Dia4', 0), ('Dia5', 0), ('Add1', 0), ('Add2', 0), ('Add3', 0), ('Add4', 0), ('Dep1', 0), ('Dep2', 0), ('Dep3', 0), ('Dep4', 0), ('Dep5', 0), ('Car1', 0), ('Car2', 0), ('Car3', 0), ('Car4', 0), ('Car5', 0), ('Ast1', 0), ('Ast2', 0), ('Ast3', 0), ('Ast4', 0), ('Ast5', 0), ('Ast6', 0), ('Gla1', 0), ('Gla2', 0), ('Gla3', 0), ('Gla4', 0), ('Gla5', 0), ('Leu1', 0), ('Leu2', 0), ('Leu3', 0), ('Leu4', 0), ('Leu5', 0), ('Cro1', 0), ('Cro2', 0), ('Cro3', 0), ('Cro4', 0), ('Cro5', 0)]\n",
      "\n",
      "NDCG: 0\n",
      "Diabetes: [('Flu1', 0), ('Flu2', 0), ('Flu3', 0), ('Flu4', 0), ('Flu5', 0), ('Cov1', 0), ('Cov2', 0), ('Cov3', 0), ('Cov4', 0), ('Cov5', 0), ('Dia1', 0), ('Dia2', 0), ('Dia3', 0), ('Dia4', 0), ('Dia5', 0), ('Add1', 0), ('Add2', 0), ('Add3', 0), ('Add4', 0), ('Dep1', 0), ('Dep2', 0), ('Dep3', 0), ('Dep4', 0), ('Dep5', 0), ('Car1', 0), ('Car2', 0), ('Car3', 0), ('Car4', 0), ('Car5', 0), ('Ast1', 0), ('Ast2', 0), ('Ast3', 0), ('Ast4', 0), ('Ast5', 0), ('Ast6', 0), ('Gla1', 0), ('Gla2', 0), ('Gla3', 0), ('Gla4', 0), ('Gla5', 0), ('Leu1', 0), ('Leu2', 0), ('Leu3', 0), ('Leu4', 0), ('Leu5', 0), ('Cro1', 0), ('Cro2', 0), ('Cro3', 0), ('Cro4', 0), ('Cro5', 0)]\n",
      "\n",
      "NDCG: 0\n",
      "Addisons: [('Flu1', 0), ('Flu2', 0), ('Flu3', 0), ('Flu4', 0), ('Flu5', 0), ('Cov1', 0), ('Cov2', 0), ('Cov3', 0), ('Cov4', 0), ('Cov5', 0), ('Dia1', 0), ('Dia2', 0), ('Dia3', 0), ('Dia4', 0), ('Dia5', 0), ('Add1', 0), ('Add2', 0), ('Add3', 0), ('Add4', 0), ('Dep1', 0), ('Dep2', 0), ('Dep3', 0), ('Dep4', 0), ('Dep5', 0), ('Car1', 0), ('Car2', 0), ('Car3', 0), ('Car4', 0), ('Car5', 0), ('Ast1', 0), ('Ast2', 0), ('Ast3', 0), ('Ast4', 0), ('Ast5', 0), ('Ast6', 0), ('Gla1', 0), ('Gla2', 0), ('Gla3', 0), ('Gla4', 0), ('Gla5', 0), ('Leu1', 0), ('Leu2', 0), ('Leu3', 0), ('Leu4', 0), ('Leu5', 0), ('Cro1', 0), ('Cro2', 0), ('Cro3', 0), ('Cro4', 0), ('Cro5', 0)]\n",
      "\n",
      "NDCG: 0\n",
      "Depression: [('Flu1', 0), ('Flu2', 0), ('Flu3', 0), ('Flu4', 0), ('Flu5', 0), ('Cov1', 0), ('Cov2', 0), ('Cov3', 0), ('Cov4', 0), ('Cov5', 0), ('Dia1', 0), ('Dia2', 0), ('Dia3', 0), ('Dia4', 0), ('Dia5', 0), ('Add1', 0), ('Add2', 0), ('Add3', 0), ('Add4', 0), ('Dep1', 0), ('Dep2', 0), ('Dep3', 0), ('Dep4', 0), ('Dep5', 0), ('Car1', 0), ('Car2', 0), ('Car3', 0), ('Car4', 0), ('Car5', 0), ('Ast1', 0), ('Ast2', 0), ('Ast3', 0), ('Ast4', 0), ('Ast5', 0), ('Ast6', 0), ('Gla1', 0), ('Gla2', 0), ('Gla3', 0), ('Gla4', 0), ('Gla5', 0), ('Leu1', 0), ('Leu2', 0), ('Leu3', 0), ('Leu4', 0), ('Leu5', 0), ('Cro1', 0), ('Cro2', 0), ('Cro3', 0), ('Cro4', 0), ('Cro5', 0)]\n",
      "\n",
      "NDCG: 0\n",
      "Cardiac Arrest: [('Dep2', 5), ('Cro1', 5), ('Dia1', 3), ('Dep1', 3), ('Flu1', 0), ('Flu2', 0), ('Flu3', 0), ('Flu4', 0), ('Flu5', 0), ('Cov1', 0), ('Cov2', 0), ('Cov3', 0), ('Cov4', 0), ('Cov5', 0), ('Dia2', 0), ('Dia3', 0), ('Dia4', 0), ('Dia5', 0), ('Add1', 0), ('Add2', 0), ('Add3', 0), ('Add4', 0), ('Dep3', 0), ('Dep4', 0), ('Dep5', 0), ('Car1', 0), ('Car2', 0), ('Car3', 0), ('Car4', 0), ('Car5', 0), ('Ast1', 0), ('Ast2', 0), ('Ast3', 0), ('Ast4', 0), ('Ast5', 0), ('Ast6', 0), ('Gla1', 0), ('Gla2', 0), ('Gla3', 0), ('Gla4', 0), ('Gla5', 0), ('Leu1', 0), ('Leu2', 0), ('Leu3', 0), ('Leu4', 0), ('Leu5', 0), ('Cro2', 0), ('Cro3', 0), ('Cro4', 0), ('Cro5', 0)]\n",
      "\n",
      "NDCG: 0\n",
      "Asthma: [('Ast1', 5), ('Flu1', 0), ('Flu2', 0), ('Flu3', 0), ('Flu4', 0), ('Flu5', 0), ('Cov1', 0), ('Cov2', 0), ('Cov3', 0), ('Cov4', 0), ('Cov5', 0), ('Dia1', 0), ('Dia2', 0), ('Dia3', 0), ('Dia4', 0), ('Dia5', 0), ('Add1', 0), ('Add2', 0), ('Add3', 0), ('Add4', 0), ('Dep1', 0), ('Dep2', 0), ('Dep3', 0), ('Dep4', 0), ('Dep5', 0), ('Car1', 0), ('Car2', 0), ('Car3', 0), ('Car4', 0), ('Car5', 0), ('Ast2', 0), ('Ast3', 0), ('Ast4', 0), ('Ast5', 0), ('Ast6', 0), ('Gla1', 0), ('Gla2', 0), ('Gla3', 0), ('Gla4', 0), ('Gla5', 0), ('Leu1', 0), ('Leu2', 0), ('Leu3', 0), ('Leu4', 0), ('Leu5', 0), ('Cro1', 0), ('Cro2', 0), ('Cro3', 0), ('Cro4', 0), ('Cro5', 0)]\n",
      "\n",
      "NDCG: 0\n",
      "Glaucoma: [('Gla1', 5), ('Gla4', 4), ('Flu1', 0), ('Flu2', 0), ('Flu3', 0), ('Flu4', 0), ('Flu5', 0), ('Cov1', 0), ('Cov2', 0), ('Cov3', 0), ('Cov4', 0), ('Cov5', 0), ('Dia1', 0), ('Dia2', 0), ('Dia3', 0), ('Dia4', 0), ('Dia5', 0), ('Add1', 0), ('Add2', 0), ('Add3', 0), ('Add4', 0), ('Dep1', 0), ('Dep2', 0), ('Dep3', 0), ('Dep4', 0), ('Dep5', 0), ('Car1', 0), ('Car2', 0), ('Car3', 0), ('Car4', 0), ('Car5', 0), ('Ast1', 0), ('Ast2', 0), ('Ast3', 0), ('Ast4', 0), ('Ast5', 0), ('Ast6', 0), ('Gla2', 0), ('Gla3', 0), ('Gla5', 0), ('Leu1', 0), ('Leu2', 0), ('Leu3', 0), ('Leu4', 0), ('Leu5', 0), ('Cro1', 0), ('Cro2', 0), ('Cro3', 0), ('Cro4', 0), ('Cro5', 0)]\n",
      "\n",
      "NDCG: 0\n",
      "Leukemia: [('Leu1', 5), ('Leu2', 2), ('Flu1', 0), ('Flu2', 0), ('Flu3', 0), ('Flu4', 0), ('Flu5', 0), ('Cov1', 0), ('Cov2', 0), ('Cov3', 0), ('Cov4', 0), ('Cov5', 0), ('Dia1', 0), ('Dia2', 0), ('Dia3', 0), ('Dia4', 0), ('Dia5', 0), ('Add1', 0), ('Add2', 0), ('Add3', 0), ('Add4', 0), ('Dep1', 0), ('Dep2', 0), ('Dep3', 0), ('Dep4', 0), ('Dep5', 0), ('Car1', 0), ('Car2', 0), ('Car3', 0), ('Car4', 0), ('Car5', 0), ('Ast1', 0), ('Ast2', 0), ('Ast3', 0), ('Ast4', 0), ('Ast5', 0), ('Ast6', 0), ('Gla1', 0), ('Gla2', 0), ('Gla3', 0), ('Gla4', 0), ('Gla5', 0), ('Leu3', 0), ('Leu4', 0), ('Leu5', 0), ('Cro1', 0), ('Cro2', 0), ('Cro3', 0), ('Cro4', 0), ('Cro5', 0)]\n",
      "\n",
      "NDCG: 0\n",
      "Crohns Disease: [('Ast1', 5), ('Flu1', 0), ('Flu2', 0), ('Flu3', 0), ('Flu4', 0), ('Flu5', 0), ('Cov1', 0), ('Cov2', 0), ('Cov3', 0), ('Cov4', 0), ('Cov5', 0), ('Dia1', 0), ('Dia2', 0), ('Dia3', 0), ('Dia4', 0), ('Dia5', 0), ('Add1', 0), ('Add2', 0), ('Add3', 0), ('Add4', 0), ('Dep1', 0), ('Dep2', 0), ('Dep3', 0), ('Dep4', 0), ('Dep5', 0), ('Car1', 0), ('Car2', 0), ('Car3', 0), ('Car4', 0), ('Car5', 0), ('Ast2', 0), ('Ast3', 0), ('Ast4', 0), ('Ast5', 0), ('Ast6', 0), ('Gla1', 0), ('Gla2', 0), ('Gla3', 0), ('Gla4', 0), ('Gla5', 0), ('Leu1', 0), ('Leu2', 0), ('Leu3', 0), ('Leu4', 0), ('Leu5', 0), ('Cro1', 0), ('Cro2', 0), ('Cro3', 0), ('Cro4', 0), ('Cro5', 0)]\n",
      "\n"
     ]
    }
   ],
   "source": [
    "model = BM25_updated_qe(doc_data, n=3)\n",
    "k_value = 10\n",
    "\n",
    "for (query, label) in updated_queries_labeled:\n",
    "    docs = model.top_docs(query, k_value, metric=\"zero_to_five\", to_sort=False)\n",
    "    \n",
    "    sorted_top_docs = sorted(docs, key=lambda x: x[1], reverse = True)\n",
    "\n",
    "    doc_list = [(doc_id, score) for doc_id, score in sorted_top_docs]\n",
    "\n",
    "    ndcg = model.ndcg(docs[:k_value])\n",
    "    print(f\"NDCG: {ndcg}\")\n",
    "    print(f\"{label}: {doc_list}\\n\")"
   ]
  },
  {
   "cell_type": "code",
   "execution_count": 53,
   "metadata": {},
   "outputs": [
    {
     "name": "stdout",
     "output_type": "stream",
     "text": [
      "NDCG: 0\n",
      "Flu: [('Flu1', 0), ('Flu2', 0), ('Flu3', 0), ('Flu4', 0), ('Flu5', 0), ('Cov1', 0), ('Cov2', 0), ('Cov3', 0), ('Cov4', 0), ('Cov5', 0), ('Dia1', 0), ('Dia2', 0), ('Dia3', 0), ('Dia4', 0), ('Dia5', 0), ('Add1', 0), ('Add2', 0), ('Add3', 0), ('Add4', 0), ('Dep1', 0), ('Dep2', 0), ('Dep3', 0), ('Dep4', 0), ('Dep5', 0), ('Car1', 0), ('Car2', 0), ('Car3', 0), ('Car4', 0), ('Car5', 0), ('Ast1', 0), ('Ast2', 0), ('Ast3', 0), ('Ast4', 0), ('Ast5', 0), ('Ast6', 0), ('Gla1', 0), ('Gla2', 0), ('Gla3', 0), ('Gla4', 0), ('Gla5', 0), ('Leu1', 0), ('Leu2', 0), ('Leu3', 0), ('Leu4', 0), ('Leu5', 0), ('Cro1', 0), ('Cro2', 0), ('Cro3', 0), ('Cro4', 0), ('Cro5', 0)]\n",
      "\n",
      "NDCG: 0.2928159141598652\n",
      "Covid: [('Cov5', 5), ('Cov4', 1), ('Flu1', 0), ('Flu2', 0), ('Flu3', 0), ('Flu4', 0), ('Flu5', 0), ('Cov1', 0), ('Cov2', 0), ('Cov3', 0), ('Dia1', 0), ('Dia2', 0), ('Dia3', 0), ('Dia4', 0), ('Dia5', 0), ('Add1', 0), ('Add2', 0), ('Add3', 0), ('Add4', 0), ('Dep1', 0), ('Dep2', 0), ('Dep3', 0), ('Dep4', 0), ('Dep5', 0), ('Car1', 0), ('Car2', 0), ('Car3', 0), ('Car4', 0), ('Car5', 0), ('Ast1', 0), ('Ast2', 0), ('Ast3', 0), ('Ast4', 0), ('Ast5', 0), ('Ast6', 0), ('Gla1', 0), ('Gla2', 0), ('Gla3', 0), ('Gla4', 0), ('Gla5', 0), ('Leu1', 0), ('Leu2', 0), ('Leu3', 0), ('Leu4', 0), ('Leu5', 0), ('Cro1', 0), ('Cro2', 0), ('Cro3', 0), ('Cro4', 0), ('Cro5', 0)]\n",
      "\n",
      "NDCG: 0\n",
      "Diabetes: [('Flu1', 0), ('Flu2', 0), ('Flu3', 0), ('Flu4', 0), ('Flu5', 0), ('Cov1', 0), ('Cov2', 0), ('Cov3', 0), ('Cov4', 0), ('Cov5', 0), ('Dia1', 0), ('Dia2', 0), ('Dia3', 0), ('Dia4', 0), ('Dia5', 0), ('Add1', 0), ('Add2', 0), ('Add3', 0), ('Add4', 0), ('Dep1', 0), ('Dep2', 0), ('Dep3', 0), ('Dep4', 0), ('Dep5', 0), ('Car1', 0), ('Car2', 0), ('Car3', 0), ('Car4', 0), ('Car5', 0), ('Ast1', 0), ('Ast2', 0), ('Ast3', 0), ('Ast4', 0), ('Ast5', 0), ('Ast6', 0), ('Gla1', 0), ('Gla2', 0), ('Gla3', 0), ('Gla4', 0), ('Gla5', 0), ('Leu1', 0), ('Leu2', 0), ('Leu3', 0), ('Leu4', 0), ('Leu5', 0), ('Cro1', 0), ('Cro2', 0), ('Cro3', 0), ('Cro4', 0), ('Cro5', 0)]\n",
      "\n",
      "NDCG: 0\n",
      "Addisons: [('Flu1', 0), ('Flu2', 0), ('Flu3', 0), ('Flu4', 0), ('Flu5', 0), ('Cov1', 0), ('Cov2', 0), ('Cov3', 0), ('Cov4', 0), ('Cov5', 0), ('Dia1', 0), ('Dia2', 0), ('Dia3', 0), ('Dia4', 0), ('Dia5', 0), ('Add1', 0), ('Add2', 0), ('Add3', 0), ('Add4', 0), ('Dep1', 0), ('Dep2', 0), ('Dep3', 0), ('Dep4', 0), ('Dep5', 0), ('Car1', 0), ('Car2', 0), ('Car3', 0), ('Car4', 0), ('Car5', 0), ('Ast1', 0), ('Ast2', 0), ('Ast3', 0), ('Ast4', 0), ('Ast5', 0), ('Ast6', 0), ('Gla1', 0), ('Gla2', 0), ('Gla3', 0), ('Gla4', 0), ('Gla5', 0), ('Leu1', 0), ('Leu2', 0), ('Leu3', 0), ('Leu4', 0), ('Leu5', 0), ('Cro1', 0), ('Cro2', 0), ('Cro3', 0), ('Cro4', 0), ('Cro5', 0)]\n",
      "\n",
      "NDCG: 0\n",
      "Depression: [('Flu1', 0), ('Flu2', 0), ('Flu3', 0), ('Flu4', 0), ('Flu5', 0), ('Cov1', 0), ('Cov2', 0), ('Cov3', 0), ('Cov4', 0), ('Cov5', 0), ('Dia1', 0), ('Dia2', 0), ('Dia3', 0), ('Dia4', 0), ('Dia5', 0), ('Add1', 0), ('Add2', 0), ('Add3', 0), ('Add4', 0), ('Dep1', 0), ('Dep2', 0), ('Dep3', 0), ('Dep4', 0), ('Dep5', 0), ('Car1', 0), ('Car2', 0), ('Car3', 0), ('Car4', 0), ('Car5', 0), ('Ast1', 0), ('Ast2', 0), ('Ast3', 0), ('Ast4', 0), ('Ast5', 0), ('Ast6', 0), ('Gla1', 0), ('Gla2', 0), ('Gla3', 0), ('Gla4', 0), ('Gla5', 0), ('Leu1', 0), ('Leu2', 0), ('Leu3', 0), ('Leu4', 0), ('Leu5', 0), ('Cro1', 0), ('Cro2', 0), ('Cro3', 0), ('Cro4', 0), ('Cro5', 0)]\n",
      "\n",
      "NDCG: 0.31062845793246857\n",
      "Cardiac Arrest: [('Dep2', 5), ('Cro1', 5), ('Dia1', 3), ('Dep1', 3), ('Flu1', 0), ('Flu2', 0), ('Flu3', 0), ('Flu4', 0), ('Flu5', 0), ('Cov1', 0), ('Cov2', 0), ('Cov3', 0), ('Cov4', 0), ('Cov5', 0), ('Dia2', 0), ('Dia3', 0), ('Dia4', 0), ('Dia5', 0), ('Add1', 0), ('Add2', 0), ('Add3', 0), ('Add4', 0), ('Dep3', 0), ('Dep4', 0), ('Dep5', 0), ('Car1', 0), ('Car2', 0), ('Car3', 0), ('Car4', 0), ('Car5', 0), ('Ast1', 0), ('Ast2', 0), ('Ast3', 0), ('Ast4', 0), ('Ast5', 0), ('Ast6', 0), ('Gla1', 0), ('Gla2', 0), ('Gla3', 0), ('Gla4', 0), ('Gla5', 0), ('Leu1', 0), ('Leu2', 0), ('Leu3', 0), ('Leu4', 0), ('Leu5', 0), ('Cro2', 0), ('Cro3', 0), ('Cro4', 0), ('Cro5', 0)]\n",
      "\n",
      "NDCG: 0\n",
      "Asthma: [('Ast1', 5), ('Flu1', 0), ('Flu2', 0), ('Flu3', 0), ('Flu4', 0), ('Flu5', 0), ('Cov1', 0), ('Cov2', 0), ('Cov3', 0), ('Cov4', 0), ('Cov5', 0), ('Dia1', 0), ('Dia2', 0), ('Dia3', 0), ('Dia4', 0), ('Dia5', 0), ('Add1', 0), ('Add2', 0), ('Add3', 0), ('Add4', 0), ('Dep1', 0), ('Dep2', 0), ('Dep3', 0), ('Dep4', 0), ('Dep5', 0), ('Car1', 0), ('Car2', 0), ('Car3', 0), ('Car4', 0), ('Car5', 0), ('Ast2', 0), ('Ast3', 0), ('Ast4', 0), ('Ast5', 0), ('Ast6', 0), ('Gla1', 0), ('Gla2', 0), ('Gla3', 0), ('Gla4', 0), ('Gla5', 0), ('Leu1', 0), ('Leu2', 0), ('Leu3', 0), ('Leu4', 0), ('Leu5', 0), ('Cro1', 0), ('Cro2', 0), ('Cro3', 0), ('Cro4', 0), ('Cro5', 0)]\n",
      "\n",
      "NDCG: 0\n",
      "Glaucoma: [('Gla1', 5), ('Gla4', 4), ('Flu1', 0), ('Flu2', 0), ('Flu3', 0), ('Flu4', 0), ('Flu5', 0), ('Cov1', 0), ('Cov2', 0), ('Cov3', 0), ('Cov4', 0), ('Cov5', 0), ('Dia1', 0), ('Dia2', 0), ('Dia3', 0), ('Dia4', 0), ('Dia5', 0), ('Add1', 0), ('Add2', 0), ('Add3', 0), ('Add4', 0), ('Dep1', 0), ('Dep2', 0), ('Dep3', 0), ('Dep4', 0), ('Dep5', 0), ('Car1', 0), ('Car2', 0), ('Car3', 0), ('Car4', 0), ('Car5', 0), ('Ast1', 0), ('Ast2', 0), ('Ast3', 0), ('Ast4', 0), ('Ast5', 0), ('Ast6', 0), ('Gla2', 0), ('Gla3', 0), ('Gla5', 0), ('Leu1', 0), ('Leu2', 0), ('Leu3', 0), ('Leu4', 0), ('Leu5', 0), ('Cro1', 0), ('Cro2', 0), ('Cro3', 0), ('Cro4', 0), ('Cro5', 0)]\n",
      "\n",
      "NDCG: 0\n",
      "Leukemia: [('Leu1', 5), ('Leu2', 2), ('Flu1', 0), ('Flu2', 0), ('Flu3', 0), ('Flu4', 0), ('Flu5', 0), ('Cov1', 0), ('Cov2', 0), ('Cov3', 0), ('Cov4', 0), ('Cov5', 0), ('Dia1', 0), ('Dia2', 0), ('Dia3', 0), ('Dia4', 0), ('Dia5', 0), ('Add1', 0), ('Add2', 0), ('Add3', 0), ('Add4', 0), ('Dep1', 0), ('Dep2', 0), ('Dep3', 0), ('Dep4', 0), ('Dep5', 0), ('Car1', 0), ('Car2', 0), ('Car3', 0), ('Car4', 0), ('Car5', 0), ('Ast1', 0), ('Ast2', 0), ('Ast3', 0), ('Ast4', 0), ('Ast5', 0), ('Ast6', 0), ('Gla1', 0), ('Gla2', 0), ('Gla3', 0), ('Gla4', 0), ('Gla5', 0), ('Leu3', 0), ('Leu4', 0), ('Leu5', 0), ('Cro1', 0), ('Cro2', 0), ('Cro3', 0), ('Cro4', 0), ('Cro5', 0)]\n",
      "\n",
      "NDCG: 0\n",
      "Crohns Disease: [('Ast1', 5), ('Flu1', 0), ('Flu2', 0), ('Flu3', 0), ('Flu4', 0), ('Flu5', 0), ('Cov1', 0), ('Cov2', 0), ('Cov3', 0), ('Cov4', 0), ('Cov5', 0), ('Dia1', 0), ('Dia2', 0), ('Dia3', 0), ('Dia4', 0), ('Dia5', 0), ('Add1', 0), ('Add2', 0), ('Add3', 0), ('Add4', 0), ('Dep1', 0), ('Dep2', 0), ('Dep3', 0), ('Dep4', 0), ('Dep5', 0), ('Car1', 0), ('Car2', 0), ('Car3', 0), ('Car4', 0), ('Car5', 0), ('Ast2', 0), ('Ast3', 0), ('Ast4', 0), ('Ast5', 0), ('Ast6', 0), ('Gla1', 0), ('Gla2', 0), ('Gla3', 0), ('Gla4', 0), ('Gla5', 0), ('Leu1', 0), ('Leu2', 0), ('Leu3', 0), ('Leu4', 0), ('Leu5', 0), ('Cro1', 0), ('Cro2', 0), ('Cro3', 0), ('Cro4', 0), ('Cro5', 0)]\n",
      "\n"
     ]
    }
   ],
   "source": [
    "model = BM25_updated_qe(doc_data, n=3)\n",
    "k_value = 20\n",
    "\n",
    "for (query, label) in updated_queries_labeled:\n",
    "    docs = model.top_docs(query, k_value, metric=\"zero_to_five\", to_sort=False)\n",
    "    \n",
    "    sorted_top_docs = sorted(docs, key=lambda x: x[1], reverse = True)\n",
    "\n",
    "    doc_list = [(doc_id, score) for doc_id, score in sorted_top_docs]\n",
    "\n",
    "    ndcg = model.ndcg(docs[:k_value])\n",
    "    print(f\"NDCG: {ndcg}\")\n",
    "    print(f\"{label}: {doc_list}\\n\")"
   ]
  }
 ],
 "metadata": {
  "kernelspec": {
   "display_name": "base",
   "language": "python",
   "name": "python3"
  },
  "language_info": {
   "codemirror_mode": {
    "name": "ipython",
    "version": 3
   },
   "file_extension": ".py",
   "mimetype": "text/x-python",
   "name": "python",
   "nbconvert_exporter": "python",
   "pygments_lexer": "ipython3",
   "version": "3.11.3"
  }
 },
 "nbformat": 4,
 "nbformat_minor": 2
}
